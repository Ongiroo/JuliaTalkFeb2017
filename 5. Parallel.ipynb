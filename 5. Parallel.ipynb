{
 "cells": [
  {
   "cell_type": "markdown",
   "metadata": {},
   "source": [
    "## Add available processors"
   ]
  },
  {
   "cell_type": "code",
   "execution_count": 1,
   "metadata": {
    "collapsed": false
   },
   "outputs": [
    {
     "data": {
      "text/plain": [
       "1"
      ]
     },
     "execution_count": 1,
     "metadata": {},
     "output_type": "execute_result"
    }
   ],
   "source": [
    "nprocs()"
   ]
  },
  {
   "cell_type": "code",
   "execution_count": 2,
   "metadata": {
    "collapsed": false
   },
   "outputs": [
    {
     "data": {
      "text/plain": [
       "4-element Array{Int64,1}:\n",
       " 2\n",
       " 3\n",
       " 4\n",
       " 5"
      ]
     },
     "execution_count": 2,
     "metadata": {},
     "output_type": "execute_result"
    }
   ],
   "source": [
    "nprocs() == 1 && addprocs()"
   ]
  },
  {
   "cell_type": "code",
   "execution_count": 3,
   "metadata": {
    "collapsed": false
   },
   "outputs": [
    {
     "data": {
      "text/plain": [
       "4-element Array{Int64,1}:\n",
       " 2\n",
       " 3\n",
       " 4\n",
       " 5"
      ]
     },
     "execution_count": 3,
     "metadata": {},
     "output_type": "execute_result"
    }
   ],
   "source": [
    "workers()"
   ]
  },
  {
   "cell_type": "markdown",
   "metadata": {},
   "source": [
    "## Remote Calls and References"
   ]
  },
  {
   "cell_type": "code",
   "execution_count": 4,
   "metadata": {
    "collapsed": false
   },
   "outputs": [],
   "source": [
    "ref = @spawn sin(π/5)"
   ]
  },
  {
   "cell_type": "code",
   "execution_count": 5,
   "metadata": {
    "collapsed": false
   },
   "outputs": [
    {
     "data": {
      "text/plain": [
       "0.5877852522924731"
      ]
     },
     "execution_count": 5,
     "metadata": {},
     "output_type": "execute_result"
    }
   ],
   "source": [
    "fetch(ref)"
   ]
  },
  {
   "cell_type": "code",
   "execution_count": 6,
   "metadata": {
    "collapsed": false
   },
   "outputs": [],
   "source": [
    "n=10\n",
    "refs = Array(Future,n)\n",
    "for i = 1:n\n",
    "    refs[i] = @spawn sin(i)\n",
    "end"
   ]
  },
  {
   "cell_type": "code",
   "execution_count": 7,
   "metadata": {
    "collapsed": false
   },
   "outputs": [
    {
     "data": {
      "text/plain": [
       "10-element Array{Future,1}:\n",
       " Future(3,1,8,#NULL) \n",
       " Future(4,1,9,#NULL) \n",
       " Future(5,1,10,#NULL)\n",
       " Future(2,1,11,#NULL)\n",
       " Future(3,1,12,#NULL)\n",
       " Future(4,1,13,#NULL)\n",
       " Future(5,1,14,#NULL)\n",
       " Future(2,1,15,#NULL)\n",
       " Future(3,1,16,#NULL)\n",
       " Future(4,1,17,#NULL)"
      ]
     },
     "execution_count": 7,
     "metadata": {},
     "output_type": "execute_result"
    }
   ],
   "source": [
    "refs"
   ]
  },
  {
   "cell_type": "code",
   "execution_count": 8,
   "metadata": {
    "collapsed": false
   },
   "outputs": [
    {
     "data": {
      "text/plain": [
       "1.4111883712180104"
      ]
     },
     "execution_count": 8,
     "metadata": {},
     "output_type": "execute_result"
    }
   ],
   "source": [
    "reduce(+,map(fetch,refs))"
   ]
  },
  {
   "cell_type": "code",
   "execution_count": 9,
   "metadata": {
    "collapsed": false
   },
   "outputs": [],
   "source": [
    "res=@parallel (vcat) for i=1:n\n",
    "    sin(i)\n",
    "end"
   ]
  },
  {
   "cell_type": "code",
   "execution_count": 10,
   "metadata": {
    "collapsed": false
   },
   "outputs": [
    {
     "data": {
      "text/plain": [
       "1.4111883712180104"
      ]
     },
     "execution_count": 10,
     "metadata": {},
     "output_type": "execute_result"
    }
   ],
   "source": [
    "reduce(+,res)"
   ]
  },
  {
   "cell_type": "code",
   "execution_count": 11,
   "metadata": {
    "collapsed": false
   },
   "outputs": [
    {
     "name": "stdout",
     "output_type": "stream",
     "text": [
      "\tFrom worker 5:\t(9,0.4121184852417566)\n",
      "\tFrom worker 4:\t(7,0.6569865987187891)\n",
      "\tFrom worker 5:\t(10,-0.5440211108893698)\n",
      "\tFrom worker 4:\t(8,0.9893582466233818)\n",
      "\tFrom worker 2:\t(1,0.8414709848078965)\n",
      "\tFrom worker 3:\t(4,-0.7568024953079282)\n",
      "\tFrom worker 2:\t(2,0.9092974268256817)\n",
      "\tFrom worker 3:\t(5,-0.9589242746631385)\n",
      "\tFrom worker 2:\t(3,0.1411200080598672)\n",
      "\tFrom worker 3:\t(6,-0.27941549819892586)\n"
     ]
    },
    {
     "data": {
      "text/plain": [
       "10×2 Array{Float64,2}:\n",
       "  1.0   0.841471\n",
       "  2.0   0.909297\n",
       "  3.0   0.14112 \n",
       "  4.0  -0.756802\n",
       "  5.0  -0.958924\n",
       "  6.0  -0.279415\n",
       "  7.0   0.656987\n",
       "  8.0   0.989358\n",
       "  9.0   0.412118\n",
       " 10.0  -0.544021"
      ]
     },
     "execution_count": 11,
     "metadata": {},
     "output_type": "execute_result"
    }
   ],
   "source": [
    "res=@parallel (vcat) for i = 1:10\n",
    "    println((i,sin(i)))\n",
    "    [i sin(i)]\n",
    "end"
   ]
  },
  {
   "cell_type": "code",
   "execution_count": 12,
   "metadata": {
    "collapsed": false
   },
   "outputs": [
    {
     "data": {
      "text/plain": [
       "1.4111883712180104"
      ]
     },
     "execution_count": 12,
     "metadata": {},
     "output_type": "execute_result"
    }
   ],
   "source": [
    "sum(res[:,2])"
   ]
  },
  {
   "cell_type": "markdown",
   "metadata": {},
   "source": [
    "## Monte-Carlo Simulation to estimate $\\pi$"
   ]
  },
  {
   "cell_type": "code",
   "execution_count": 13,
   "metadata": {
    "collapsed": false
   },
   "outputs": [],
   "source": [
    "#==========================#\n",
    "# monte-carlo simulation\n",
    "# π r^2 / 4 r^2 = s/n \n",
    "#==========================#\n",
    "\n",
    "\n",
    "@everywhere function isInside() \n",
    "    x = rand()\n",
    "    y = rand()\n",
    "    x^2 + y^2 < 1 ? 1 : 0\n",
    "end;\n",
    "\n",
    "@everywhere function ppi(n)\n",
    "    s=@parallel (+) for i = 1:n\n",
    "        isInside()\n",
    "    end\n",
    "    4s/n\n",
    "end;\n"
   ]
  },
  {
   "cell_type": "code",
   "execution_count": 14,
   "metadata": {
    "collapsed": false
   },
   "outputs": [
    {
     "name": "stdout",
     "output_type": "stream",
     "text": [
      "  5.420262 seconds (138.23 k allocations: 5.888 MB)\n"
     ]
    },
    {
     "data": {
      "text/plain": [
       "3.141569136"
      ]
     },
     "execution_count": 14,
     "metadata": {},
     "output_type": "execute_result"
    }
   ],
   "source": [
    "@time ppi(10^9)"
   ]
  },
  {
   "cell_type": "markdown",
   "metadata": {},
   "source": [
    "## Distributed Arrays"
   ]
  },
  {
   "cell_type": "code",
   "execution_count": 15,
   "metadata": {
    "collapsed": false
   },
   "outputs": [
    {
     "name": "stderr",
     "output_type": "stream",
     "text": [
      "\u001b[1m\u001b[34mINFO: Recompiling stale cache file /Users/ppalmes/.julia/lib/v0.5/Primes.ji for module Primes.\n",
      "\u001b[0m\u001b[1m\u001b[34mINFO: Recompiling stale cache file /Users/ppalmes/.julia/lib/v0.5/DistributedArrays.ji for module DistributedArrays.\n",
      "\u001b[0m"
     ]
    },
    {
     "data": {
      "text/plain": [
       "20×20 Array{Float64,2}:\n",
       "  8.0  7.0   0.0   8.0   3.0   7.0  …   1.0   3.0   1.0   9.0   1.0   8.0\n",
       "  7.0  3.0   1.0   7.0   9.0   5.0      9.0   9.0   1.0   1.0   8.0   3.0\n",
       "  5.0  9.0   2.0   5.0   3.0   7.0      8.0   9.0   2.0   3.0   3.0   9.0\n",
       "  1.0  2.0   9.0   2.0  10.0   9.0     10.0   6.0   2.0  10.0   1.0   5.0\n",
       "  2.0  4.0   2.0   1.0   9.0   3.0      7.0   1.0   8.0   8.0   7.0   1.0\n",
       "  6.0  4.0   1.0   3.0   3.0   7.0  …   1.0   6.0   5.0  10.0   8.0   8.0\n",
       "  8.0  1.0   8.0   2.0   0.0   6.0      7.0  10.0   4.0   6.0   9.0   5.0\n",
       "  7.0  1.0   1.0   6.0  10.0   5.0      7.0   4.0   8.0   9.0   9.0  10.0\n",
       " 10.0  8.0  10.0   5.0   3.0   4.0      5.0   2.0  10.0   4.0   3.0   2.0\n",
       "  6.0  5.0   1.0   2.0   5.0   1.0      7.0   3.0   3.0   7.0   1.0   4.0\n",
       "  3.0  1.0   4.0   9.0   2.0   8.0  …   7.0   6.0   7.0   0.0   5.0   1.0\n",
       "  8.0  6.0   8.0   5.0   6.0   0.0      1.0   1.0   2.0   6.0  10.0   9.0\n",
       "  7.0  9.0   5.0   6.0   8.0  10.0      4.0   6.0   7.0   3.0   8.0   4.0\n",
       "  3.0  3.0   8.0   1.0   8.0   9.0      0.0   1.0   3.0   0.0   6.0   3.0\n",
       "  4.0  9.0  10.0   7.0   9.0   7.0      9.0   3.0   5.0   9.0   7.0   8.0\n",
       "  4.0  8.0   7.0   2.0   6.0   8.0  …   2.0   8.0   4.0   3.0   1.0   9.0\n",
       "  2.0  6.0   3.0   3.0   7.0   4.0      5.0   4.0   4.0   9.0   2.0   0.0\n",
       "  7.0  8.0   6.0  10.0   8.0  10.0      8.0   2.0   1.0   1.0   1.0  10.0\n",
       "  8.0  8.0   6.0   0.0   3.0   1.0     10.0   1.0   6.0   7.0   9.0   6.0\n",
       "  3.0  7.0   3.0   6.0   6.0   5.0      8.0   1.0   9.0   7.0   9.0   6.0"
      ]
     },
     "execution_count": 15,
     "metadata": {},
     "output_type": "execute_result"
    }
   ],
   "source": [
    "using DistributedArrays\n",
    "\n",
    "a = round(10*rand(20,20))"
   ]
  },
  {
   "cell_type": "code",
   "execution_count": 16,
   "metadata": {
    "collapsed": false
   },
   "outputs": [
    {
     "data": {
      "text/plain": [
       "20×20 Array{Int64,2}:\n",
       " 1  1  1  1  1  1  1  1  1  1  1  1  1  1  1  1  1  1  1  1\n",
       " 1  1  1  1  1  1  1  1  1  1  1  1  1  1  1  1  1  1  1  1\n",
       " 1  1  1  1  1  1  1  1  1  1  1  1  1  1  1  1  1  1  1  1\n",
       " 1  1  1  1  1  1  1  1  1  1  1  1  1  1  1  1  1  1  1  1\n",
       " 1  1  1  1  1  1  1  1  1  1  1  1  1  1  1  1  1  1  1  1\n",
       " 1  1  1  1  1  1  1  1  1  1  1  1  1  1  1  1  1  1  1  1\n",
       " 1  1  1  1  1  1  1  1  1  1  1  1  1  1  1  1  1  1  1  1\n",
       " 1  1  1  1  1  1  1  1  1  1  1  1  1  1  1  1  1  1  1  1\n",
       " 1  1  1  1  1  1  1  1  1  1  1  1  1  1  1  1  1  1  1  1\n",
       " 1  1  1  1  1  1  1  1  1  1  1  1  1  1  1  1  1  1  1  1\n",
       " 1  1  1  1  1  1  1  1  1  1  1  1  1  1  1  1  1  1  1  1\n",
       " 1  1  1  1  1  1  1  1  1  1  1  1  1  1  1  1  1  1  1  1\n",
       " 1  1  1  1  1  1  1  1  1  1  1  1  1  1  1  1  1  1  1  1\n",
       " 1  1  1  1  1  1  1  1  1  1  1  1  1  1  1  1  1  1  1  1\n",
       " 1  1  1  1  1  1  1  1  1  1  1  1  1  1  1  1  1  1  1  1\n",
       " 1  1  1  1  1  1  1  1  1  1  1  1  1  1  1  1  1  1  1  1\n",
       " 1  1  1  1  1  1  1  1  1  1  1  1  1  1  1  1  1  1  1  1\n",
       " 1  1  1  1  1  1  1  1  1  1  1  1  1  1  1  1  1  1  1  1\n",
       " 1  1  1  1  1  1  1  1  1  1  1  1  1  1  1  1  1  1  1  1\n",
       " 1  1  1  1  1  1  1  1  1  1  1  1  1  1  1  1  1  1  1  1"
      ]
     },
     "execution_count": 16,
     "metadata": {},
     "output_type": "execute_result"
    }
   ],
   "source": [
    "map(x->myid(),a)"
   ]
  },
  {
   "cell_type": "code",
   "execution_count": 17,
   "metadata": {
    "collapsed": false
   },
   "outputs": [
    {
     "data": {
      "text/plain": [
       "20×20 DistributedArrays.DArray{Float64,2,Array{Float64,2}}:\n",
       "  8.0  7.0   0.0   8.0   3.0   7.0  …   1.0   3.0   1.0   9.0   1.0   8.0\n",
       "  7.0  3.0   1.0   7.0   9.0   5.0      9.0   9.0   1.0   1.0   8.0   3.0\n",
       "  5.0  9.0   2.0   5.0   3.0   7.0      8.0   9.0   2.0   3.0   3.0   9.0\n",
       "  1.0  2.0   9.0   2.0  10.0   9.0     10.0   6.0   2.0  10.0   1.0   5.0\n",
       "  2.0  4.0   2.0   1.0   9.0   3.0      7.0   1.0   8.0   8.0   7.0   1.0\n",
       "  6.0  4.0   1.0   3.0   3.0   7.0  …   1.0   6.0   5.0  10.0   8.0   8.0\n",
       "  8.0  1.0   8.0   2.0   0.0   6.0      7.0  10.0   4.0   6.0   9.0   5.0\n",
       "  7.0  1.0   1.0   6.0  10.0   5.0      7.0   4.0   8.0   9.0   9.0  10.0\n",
       " 10.0  8.0  10.0   5.0   3.0   4.0      5.0   2.0  10.0   4.0   3.0   2.0\n",
       "  6.0  5.0   1.0   2.0   5.0   1.0      7.0   3.0   3.0   7.0   1.0   4.0\n",
       "  3.0  1.0   4.0   9.0   2.0   8.0  …   7.0   6.0   7.0   0.0   5.0   1.0\n",
       "  8.0  6.0   8.0   5.0   6.0   0.0      1.0   1.0   2.0   6.0  10.0   9.0\n",
       "  7.0  9.0   5.0   6.0   8.0  10.0      4.0   6.0   7.0   3.0   8.0   4.0\n",
       "  3.0  3.0   8.0   1.0   8.0   9.0      0.0   1.0   3.0   0.0   6.0   3.0\n",
       "  4.0  9.0  10.0   7.0   9.0   7.0      9.0   3.0   5.0   9.0   7.0   8.0\n",
       "  4.0  8.0   7.0   2.0   6.0   8.0  …   2.0   8.0   4.0   3.0   1.0   9.0\n",
       "  2.0  6.0   3.0   3.0   7.0   4.0      5.0   4.0   4.0   9.0   2.0   0.0\n",
       "  7.0  8.0   6.0  10.0   8.0  10.0      8.0   2.0   1.0   1.0   1.0  10.0\n",
       "  8.0  8.0   6.0   0.0   3.0   1.0     10.0   1.0   6.0   7.0   9.0   6.0\n",
       "  3.0  7.0   3.0   6.0   6.0   5.0      8.0   1.0   9.0   7.0   9.0   6.0"
      ]
     },
     "execution_count": 17,
     "metadata": {},
     "output_type": "execute_result"
    }
   ],
   "source": [
    "da = distribute(a)"
   ]
  },
  {
   "cell_type": "code",
   "execution_count": 18,
   "metadata": {
    "collapsed": false
   },
   "outputs": [
    {
     "data": {
      "text/plain": [
       "20×20 DistributedArrays.DArray{Int64,2,Array{Int64,2}}:\n",
       " 2  2  2  2  2  2  2  2  2  2  4  4  4  4  4  4  4  4  4  4\n",
       " 2  2  2  2  2  2  2  2  2  2  4  4  4  4  4  4  4  4  4  4\n",
       " 2  2  2  2  2  2  2  2  2  2  4  4  4  4  4  4  4  4  4  4\n",
       " 2  2  2  2  2  2  2  2  2  2  4  4  4  4  4  4  4  4  4  4\n",
       " 2  2  2  2  2  2  2  2  2  2  4  4  4  4  4  4  4  4  4  4\n",
       " 2  2  2  2  2  2  2  2  2  2  4  4  4  4  4  4  4  4  4  4\n",
       " 2  2  2  2  2  2  2  2  2  2  4  4  4  4  4  4  4  4  4  4\n",
       " 2  2  2  2  2  2  2  2  2  2  4  4  4  4  4  4  4  4  4  4\n",
       " 2  2  2  2  2  2  2  2  2  2  4  4  4  4  4  4  4  4  4  4\n",
       " 2  2  2  2  2  2  2  2  2  2  4  4  4  4  4  4  4  4  4  4\n",
       " 3  3  3  3  3  3  3  3  3  3  5  5  5  5  5  5  5  5  5  5\n",
       " 3  3  3  3  3  3  3  3  3  3  5  5  5  5  5  5  5  5  5  5\n",
       " 3  3  3  3  3  3  3  3  3  3  5  5  5  5  5  5  5  5  5  5\n",
       " 3  3  3  3  3  3  3  3  3  3  5  5  5  5  5  5  5  5  5  5\n",
       " 3  3  3  3  3  3  3  3  3  3  5  5  5  5  5  5  5  5  5  5\n",
       " 3  3  3  3  3  3  3  3  3  3  5  5  5  5  5  5  5  5  5  5\n",
       " 3  3  3  3  3  3  3  3  3  3  5  5  5  5  5  5  5  5  5  5\n",
       " 3  3  3  3  3  3  3  3  3  3  5  5  5  5  5  5  5  5  5  5\n",
       " 3  3  3  3  3  3  3  3  3  3  5  5  5  5  5  5  5  5  5  5\n",
       " 3  3  3  3  3  3  3  3  3  3  5  5  5  5  5  5  5  5  5  5"
      ]
     },
     "execution_count": 18,
     "metadata": {},
     "output_type": "execute_result"
    }
   ],
   "source": [
    "map(x->myid(),da)"
   ]
  },
  {
   "cell_type": "code",
   "execution_count": 19,
   "metadata": {
    "collapsed": false
   },
   "outputs": [
    {
     "data": {
      "text/plain": [
       "2×2 Array{Int64,2}:\n",
       " 2  4\n",
       " 3  5"
      ]
     },
     "execution_count": 19,
     "metadata": {},
     "output_type": "execute_result"
    }
   ],
   "source": [
    "da.pids"
   ]
  },
  {
   "cell_type": "code",
   "execution_count": 20,
   "metadata": {
    "collapsed": false
   },
   "outputs": [
    {
     "data": {
      "text/plain": [
       "2×2 Array{Future,2}:\n",
       " Future(2,1,3264,#NULL)  Future(4,1,3266,#NULL)\n",
       " Future(3,1,3265,#NULL)  Future(5,1,3267,#NULL)"
      ]
     },
     "execution_count": 20,
     "metadata": {},
     "output_type": "execute_result"
    }
   ],
   "source": [
    "[@spawnat p sum(localpart(da)) for p in da.pids]"
   ]
  },
  {
   "cell_type": "code",
   "execution_count": 21,
   "metadata": {
    "collapsed": false
   },
   "outputs": [
    {
     "data": {
      "text/plain": [
       "2×2 Array{Float64,2}:\n",
       " 467.0  536.0\n",
       " 558.0  477.0"
      ]
     },
     "execution_count": 21,
     "metadata": {},
     "output_type": "execute_result"
    }
   ],
   "source": [
    "map(fetch,[@spawnat p sum(localpart(da)) for p in da.pids])"
   ]
  },
  {
   "cell_type": "code",
   "execution_count": 22,
   "metadata": {
    "collapsed": false
   },
   "outputs": [
    {
     "data": {
      "text/plain": [
       "2038.0"
      ]
     },
     "execution_count": 22,
     "metadata": {},
     "output_type": "execute_result"
    }
   ],
   "source": [
    "reduce(+,map(fetch,[@spawnat p sum(localpart(da)) for p in da.pids]))"
   ]
  },
  {
   "cell_type": "code",
   "execution_count": 23,
   "metadata": {
    "collapsed": false
   },
   "outputs": [
    {
     "data": {
      "text/html": [
       "sum(d::<b>DistributedArrays.DArray</b>) at <a href=\"https://github.com/JuliaParallel/DistributedArrays.jl/tree/d68911be5c661488e61524bee5815314306c29f9/src/mapreduce.jl#L127\" target=\"_blank\">/Users/ppalmes/.julia/v0.5/DistributedArrays/src/mapreduce.jl:127</a>"
      ],
      "text/plain": [
       "sum(d::DistributedArrays.DArray) at /Users/ppalmes/.julia/v0.5/DistributedArrays/src/mapreduce.jl:127"
      ]
     },
     "execution_count": 23,
     "metadata": {},
     "output_type": "execute_result"
    }
   ],
   "source": [
    "@which sum(da)"
   ]
  },
  {
   "cell_type": "markdown",
   "metadata": {},
   "source": [
    "## Cross-validation in parallel"
   ]
  },
  {
   "cell_type": "code",
   "execution_count": 24,
   "metadata": {
    "collapsed": true
   },
   "outputs": [],
   "source": [
    "using RDatasets\n",
    "@everywhere using RDatasets\n",
    "using DecisionTree\n",
    "@everywhere using DecisionTree\n",
    "\n",
    "@everywhere function irisAcc() \n",
    "    iris = dataset(\"datasets\", \"iris\")\n",
    "    features = convert(Array, iris[:, 1:4]);\n",
    "    labels = convert(Array, iris[:, 5]);\n",
    "    model = build_forest(labels, features, 2, 10, 0.5, 6);\n",
    "    accuracy = nfoldCV_forest(labels, features, 2, 10, 2, 0.5);\n",
    "    mean(accuracy)\n",
    "end\n"
   ]
  },
  {
   "cell_type": "code",
   "execution_count": 25,
   "metadata": {
    "collapsed": false
   },
   "outputs": [
    {
     "name": "stdout",
     "output_type": "stream",
     "text": [
      "\n",
      "Fold 1\n",
      "Classes:  "
     ]
    },
    {
     "data": {
      "text/plain": [
       "3×3 Array{Int64,2}:\n",
       " 23   0   0\n",
       "  1  28   0\n",
       "  0   2  21"
      ]
     },
     "metadata": {},
     "output_type": "display_data"
    },
    {
     "name": "stdout",
     "output_type": "stream",
     "text": [
      "Any[\"setosa\",\"versicolor\",\"virginica\"]\n",
      "Matrix:   "
     ]
    },
    {
     "data": {
      "text/plain": [
       "3×3 Array{Int64,2}:\n",
       " 27   0   0\n",
       "  0  18   3\n",
       "  0   3  24"
      ]
     },
     "metadata": {},
     "output_type": "display_data"
    },
    {
     "data": {
      "text/plain": [
       "3×3 Array{Int64,2}:\n",
       " 23   0   0\n",
       "  0  26   1\n",
       "  0   3  22"
      ]
     },
     "metadata": {},
     "output_type": "display_data"
    },
    {
     "data": {
      "text/plain": [
       "3×3 Array{Int64,2}:\n",
       " 27   0   0\n",
       "  0  21   2\n",
       "  0   5  20"
      ]
     },
     "metadata": {},
     "output_type": "display_data"
    },
    {
     "name": "stdout",
     "output_type": "stream",
     "text": [
      "\n",
      "Accuracy: 0.96\n",
      "Kappa:    0.939516129032258\n",
      "\n",
      "Fold 2\n",
      "Classes:  Any[\"setosa\",\"versicolor\",\"virginica\"]\n",
      "Matrix:   \n",
      "Accuracy: 0.92\n",
      "Kappa:    0.8792270531400966\n",
      "\n",
      "Mean Accuracy: 0.94\n",
      "\n",
      "Fold 1\n",
      "Classes:  Any[\"setosa\",\"versicolor\",\"virginica\"]\n",
      "Matrix:   \n",
      "Accuracy: 0.9466666666666667\n",
      "Kappa:    0.9197431781701444\n",
      "\n",
      "Fold 2\n",
      "Classes:  Any[\"setosa\",\"versicolor\",\"virginica\"]\n",
      "Matrix:   "
     ]
    },
    {
     "data": {
      "text/plain": [
       "3×3 Array{Int64,2}:\n",
       " 25   0   0\n",
       "  6  19   1\n",
       "  0   1  23"
      ]
     },
     "metadata": {},
     "output_type": "display_data"
    },
    {
     "data": {
      "text/plain": [
       "3×3 Array{Int64,2}:\n",
       " 25   0   0\n",
       "  0  22   2\n",
       "  0   3  23"
      ]
     },
     "metadata": {},
     "output_type": "display_data"
    },
    {
     "name": "stdout",
     "output_type": "stream",
     "text": [
      "\n",
      "Accuracy: 0.9066666666666666\n",
      "Kappa:    0.8599252934898614\n",
      "\n",
      "Mean Accuracy: 0.9266666666666666\n",
      "\n",
      "Fold 1\n",
      "Classes:  Any[\"setosa\",\"versicolor\",\"virginica\"]\n",
      "Matrix:   \n",
      "Accuracy: 0.8933333333333333\n",
      "Kappa:    0.840170484816196\n",
      "\n",
      "Fold 2\n",
      "Classes:  Any[\"setosa\",\"versicolor\",\"virginica\"]\n",
      "Matrix:   \n",
      "Accuracy: 0.9333333333333333\n",
      "Kappa:    0.9\n",
      "\n",
      "Mean Accuracy: 0.9133333333333333\n"
     ]
    },
    {
     "data": {
      "text/plain": [
       "3×3 Array{Int64,2}:\n",
       " 34   0   0\n",
       "  0  17   1\n",
       "  0   1  22"
      ]
     },
     "metadata": {},
     "output_type": "display_data"
    },
    {
     "data": {
      "text/plain": [
       "3×3 Array{Int64,2}:\n",
       " 16   0   0\n",
       "  5  26   1\n",
       "  0   3  24"
      ]
     },
     "metadata": {},
     "output_type": "display_data"
    },
    {
     "data": {
      "text/plain": [
       "3×3 Array{Int64,2}:\n",
       " 29   0   0\n",
       "  2  21   1\n",
       "  0   1  21"
      ]
     },
     "metadata": {},
     "output_type": "display_data"
    },
    {
     "name": "stdout",
     "output_type": "stream",
     "text": [
      "\n",
      "Fold 1\n",
      "Classes:  Any[\"setosa\",\"versicolor\",\"virginica\"]\n",
      "Matrix:   \n",
      "Accuracy: 0.9733333333333334\n",
      "Kappa:    0.9585176991150444\n",
      "\n",
      "Fold 2\n",
      "Classes:  Any[\"setosa\",\"versicolor\",\"virginica\"]\n",
      "Matrix:   \n",
      "Accuracy: 0.88\n",
      "Kappa:    0.8168746608790017\n",
      "\n",
      "Mean Accuracy: 0.9266666666666667\n",
      "\n",
      "Fold 1\n",
      "Classes:  Any[\"setosa\",\"versicolor\",\"virginica\"]\n",
      "Matrix:   "
     ]
    },
    {
     "data": {
      "text/plain": [
       "3×3 Array{Int64,2}:\n",
       " 21   0   0\n",
       "  1  25   0\n",
       "  0   3  25"
      ]
     },
     "metadata": {},
     "output_type": "display_data"
    },
    {
     "data": {
      "text/plain": [
       "3×3 Array{Int64,2}:\n",
       " 24   0   0\n",
       "  0  25   1\n",
       "  0   2  23"
      ]
     },
     "metadata": {},
     "output_type": "display_data"
    },
    {
     "data": {
      "text/plain": [
       "3×3 Array{Int64,2}:\n",
       " 26   0   0\n",
       "  0  22   2\n",
       "  0   1  24"
      ]
     },
     "metadata": {},
     "output_type": "display_data"
    },
    {
     "name": "stdout",
     "output_type": "stream",
     "text": [
      "\n",
      "Accuracy: 0.9466666666666667\n",
      "Kappa:    0.9192245557350566\n",
      "\n",
      "Fold 2\n",
      "Classes:  Any[\"setosa\",\"versicolor\",\"virginica\"]\n",
      "Matrix:   \n",
      "Accuracy: 0.9466666666666667\n",
      "Kappa:    0.9196787148594379\n",
      "\n",
      "Mean Accuracy: 0.9466666666666667\n",
      "\n",
      "Fold 1\n",
      "Classes:  Any[\"setosa\",\"versicolor\",\"virginica\"]\n",
      "Matrix:   \n",
      "Accuracy: 0.96\n",
      "Kappa:    0.9399519615692553\n",
      "\n",
      "Fold 2\n",
      "Classes:  Any[\"setosa\",\"versicolor\",\"virginica\"]\n",
      "Matrix:   \n",
      "Accuracy: 0.96\n",
      "Kappa:    0.9399519615692553\n",
      "\n",
      "Mean Accuracy: 0.96\n"
     ]
    },
    {
     "data": {
      "text/plain": [
       "3×3 Array{Int64,2}:\n",
       " 25   0   0\n",
       "  0  19   0\n",
       "  0   3  28"
      ]
     },
     "metadata": {},
     "output_type": "display_data"
    },
    {
     "data": {
      "text/plain": [
       "3×3 Array{Int64,2}:\n",
       " 25   0   0\n",
       "  0  21  10\n",
       "  0   2  17"
      ]
     },
     "metadata": {},
     "output_type": "display_data"
    },
    {
     "data": {
      "text/plain": [
       "3×3 Array{Int64,2}:\n",
       " 24   0   0\n",
       "  0  21   3\n",
       "  0   0  27"
      ]
     },
     "metadata": {},
     "output_type": "display_data"
    },
    {
     "name": "stdout",
     "output_type": "stream",
     "text": [
      "\n",
      "Fold 1\n",
      "Classes:  Any[\"setosa\",\"versicolor\",\"virginica\"]\n",
      "Matrix:   \n",
      "Accuracy: 0.96\n",
      "Kappa:    0.9394184168012923\n",
      "\n",
      "Fold 2\n",
      "Classes:  Any[\"setosa\",\"versicolor\",\"virginica\"]\n",
      "Matrix:   \n",
      "Accuracy: 0.84\n",
      "Kappa:    0.7615262321144672\n",
      "\n",
      "Mean Accuracy: 0.8999999999999999\n",
      "\n",
      "Fold 1\n",
      "Classes:  Any[\"setosa\",\"versicolor\",\"virginica\"]\n",
      "Matrix:   "
     ]
    },
    {
     "data": {
      "text/plain": [
       "3×3 Array{Int64,2}:\n",
       " 26   0   0\n",
       "  0  26   0\n",
       "  0   4  19"
      ]
     },
     "metadata": {},
     "output_type": "display_data"
    },
    {
     "data": {
      "text/plain": [
       "3×3 Array{Int64,2}:\n",
       " 22   0   0\n",
       "  0  25   2\n",
       "  0   1  25"
      ]
     },
     "metadata": {},
     "output_type": "display_data"
    },
    {
     "data": {
      "text/plain": [
       "3×3 Array{Int64,2}:\n",
       " 28   0   0\n",
       "  1  22   0\n",
       "  0   8  16"
      ]
     },
     "metadata": {},
     "output_type": "display_data"
    },
    {
     "name": "stdout",
     "output_type": "stream",
     "text": [
      "\n",
      "Accuracy: 0.96\n",
      "Kappa:    0.9397590361445782\n",
      "\n",
      "Fold 2\n",
      "Classes:  Any[\"setosa\",\"versicolor\",\"virginica\"]\n",
      "Matrix:   \n",
      "Accuracy: 0.9466666666666667\n",
      "Kappa:    0.9196141479099679\n",
      "\n",
      "Mean Accuracy: 0.9533333333333334\n",
      "\n",
      "Fold 1\n",
      "Classes:  Any[\"setosa\",\"versicolor\",\"virginica\"]\n",
      "Matrix:   \n",
      "Accuracy: 0.96\n",
      "Kappa:    0.9397912764249398\n",
      "\n",
      "Fold 2\n",
      "Classes:  Any[\"setosa\",\"versicolor\",\"virginica\"]\n",
      "Matrix:   \n",
      "Accuracy: 0.88\n",
      "Kappa:    0.8194704466434877\n",
      "\n",
      "Mean Accuracy: 0.9199999999999999\n"
     ]
    },
    {
     "data": {
      "text/plain": [
       "3×3 Array{Int64,2}:\n",
       " 23   1   0\n",
       "  0  27   0\n",
       "  0   5  19"
      ]
     },
     "metadata": {},
     "output_type": "display_data"
    },
    {
     "data": {
      "text/plain": [
       "3×3 Array{Int64,2}:\n",
       " 26   0   0\n",
       "  0  22   1\n",
       "  0   5  21"
      ]
     },
     "metadata": {},
     "output_type": "display_data"
    },
    {
     "data": {
      "text/plain": [
       "3×3 Array{Int64,2}:\n",
       " 24   0   0\n",
       "  7  25   1\n",
       "  0   1  17"
      ]
     },
     "metadata": {},
     "output_type": "display_data"
    },
    {
     "name": "stdout",
     "output_type": "stream",
     "text": [
      "\n",
      "Fold 1\n",
      "Classes:  Any[\"setosa\",\"versicolor\",\"virginica\"]\n",
      "Matrix:   \n",
      "Accuracy: 0.92\n",
      "Kappa:    0.8792270531400966\n",
      "\n",
      "Fold 2\n",
      "Classes:  Any[\"setosa\",\"versicolor\",\"virginica\"]\n",
      "Matrix:   \n",
      "Accuracy: 0.92\n",
      "Kappa:    0.880191693290735\n",
      "\n",
      "Mean Accuracy: 0.92\n",
      "\n",
      "Fold 1\n",
      "Classes:  Any[\"setosa\",\"versicolor\",\"virginica\"]\n",
      "Matrix:   \n",
      "Accuracy: 0.88\n",
      "Kappa:    0.8175182481751826\n"
     ]
    },
    {
     "data": {
      "text/plain": [
       "3×3 Array{Int64,2}:\n",
       " 26   0   0\n",
       "  0  17   0\n",
       "  0  12  20"
      ]
     },
     "metadata": {},
     "output_type": "display_data"
    },
    {
     "data": {
      "text/plain": [
       "3×3 Array{Int64,2}:\n",
       " 26   0   0\n",
       "  0  22   0\n",
       "  0   3  24"
      ]
     },
     "metadata": {},
     "output_type": "display_data"
    },
    {
     "data": {
      "text/plain": [
       "3×3 Array{Int64,2}:\n",
       " 24   0   0\n",
       "  1  22   5\n",
       "  0   1  22"
      ]
     },
     "metadata": {},
     "output_type": "display_data"
    },
    {
     "name": "stdout",
     "output_type": "stream",
     "text": [
      "\n",
      "Fold 2\n",
      "Classes:  Any[\"setosa\",\"versicolor\",\"virginica\"]\n",
      "Matrix:   \n",
      "Accuracy: 0.84\n",
      "Kappa:    0.7641509433962264\n",
      "\n",
      "Mean Accuracy: 0.86\n",
      "\n",
      "Fold 1\n",
      "Classes:  Any[\"setosa\",\"versicolor\",\"virginica\"]\n",
      "Matrix:   \n",
      "Accuracy: 0.96\n",
      "Kappa:    0.9400159957344708\n",
      "\n",
      "Fold 2\n",
      "Classes:  Any[\"setosa\",\"versicolor\",\"virginica\"]\n",
      "Matrix:   \n",
      "Accuracy: 0.9066666666666666\n",
      "Kappa:    0.860372340425532\n",
      "\n",
      "Mean Accuracy: 0.9333333333333333\n"
     ]
    },
    {
     "data": {
      "text/plain": [
       "3×3 Array{Int64,2}:\n",
       " 30   0   0\n",
       "  3  15   0\n",
       "  0   3  24"
      ]
     },
     "metadata": {},
     "output_type": "display_data"
    },
    {
     "data": {
      "text/plain": [
       "3×3 Array{Int64,2}:\n",
       " 20   0   0\n",
       "  0  31   1\n",
       "  0   2  21"
      ]
     },
     "metadata": {},
     "output_type": "display_data"
    },
    {
     "data": {
      "text/plain": [
       "3×3 Array{Int64,2}:\n",
       " 28   0   0\n",
       "  4  19   2\n",
       "  0   1  21"
      ]
     },
     "metadata": {},
     "output_type": "display_data"
    },
    {
     "data": {
      "text/plain": [
       "3×3 Array{Int64,2}:\n",
       " 22   0   0\n",
       "  0  25   0\n",
       "  0   7  21"
      ]
     },
     "metadata": {},
     "output_type": "display_data"
    },
    {
     "name": "stdout",
     "output_type": "stream",
     "text": [
      "\n",
      "Fold 1\n",
      "Classes:  Any[\"setosa\",\"versicolor\",\"virginica\"]\n",
      "Matrix:   \n",
      "Accuracy: 0.92\n",
      "Kappa:    0.8771498771498772\n",
      "\n",
      "Fold 2\n",
      "Classes:  Any[\"setosa\",\"versicolor\",\"virginica\"]\n",
      "Matrix:   \n",
      "Accuracy: 0.96\n",
      "Kappa:    0.9385749385749386\n",
      "\n",
      "Mean Accuracy: 0.94\n",
      "\n",
      "Fold 1\n",
      "Classes:  Any[\"setosa\",\"versicolor\",\"virginica\"]\n",
      "Matrix:   \n",
      "Accuracy: 0.9066666666666666\n",
      "Kappa:    0.8589846897663176\n",
      "\n",
      "Fold 2\n",
      "Classes:  Any[\"setosa\",\"versicolor\",\"virginica\"]\n",
      "Matrix:   "
     ]
    },
    {
     "data": {
      "text/plain": [
       "3×3 Array{Int64,2}:\n",
       " 23   0   0\n",
       "  0  26   0\n",
       "  0   3  23"
      ]
     },
     "metadata": {},
     "output_type": "display_data"
    },
    {
     "data": {
      "text/plain": [
       "3×3 Array{Int64,2}:\n",
       " 27   0   0\n",
       "  2  20   2\n",
       "  0   3  21"
      ]
     },
     "metadata": {},
     "output_type": "display_data"
    },
    {
     "data": {
      "text/plain": [
       "3×3 Array{Int64,2}:\n",
       " 25   0   0\n",
       "  4  20   2\n",
       "  0   4  20"
      ]
     },
     "metadata": {},
     "output_type": "display_data"
    },
    {
     "name": "stdout",
     "output_type": "stream",
     "text": [
      "\n",
      "Accuracy: 0.9066666666666666\n",
      "Kappa:    0.8601119104716226\n",
      "\n",
      "Mean Accuracy: 0.9066666666666666\n",
      "\n",
      "Fold 1\n",
      "Classes:  Any[\"setosa\",\"versicolor\",\"virginica\"]\n",
      "Matrix:   \n",
      "Accuracy: 0.96\n",
      "Kappa:    0.9399038461538461\n",
      "\n",
      "Fold 2\n",
      "Classes:  Any[\"setosa\",\"versicolor\",\"virginica\"]\n",
      "Matrix:   \n",
      "Accuracy: 0.9066666666666666\n",
      "Kappa:    0.8595505617977527\n",
      "\n",
      "Mean Accuracy: 0.9333333333333333\n",
      "\n",
      "Fold 1\n",
      "Classes:  Any[\"setosa\",\"versicolor\",\"virginica\"]\n",
      "Matrix:   "
     ]
    },
    {
     "data": {
      "text/plain": [
       "3×3 Array{Int64,2}:\n",
       " 25   0   0\n",
       "  0  20   4\n",
       "  0   1  25"
      ]
     },
     "metadata": {},
     "output_type": "display_data"
    },
    {
     "data": {
      "text/plain": [
       "3×3 Array{Int64,2}:\n",
       " 23   0   0\n",
       "  1  27   3\n",
       "  0   1  20"
      ]
     },
     "metadata": {},
     "output_type": "display_data"
    },
    {
     "data": {
      "text/plain": [
       "3×3 Array{Int64,2}:\n",
       " 27   0   0\n",
       "  0  17   2\n",
       "  0   4  25"
      ]
     },
     "metadata": {},
     "output_type": "display_data"
    },
    {
     "name": "stdout",
     "output_type": "stream",
     "text": [
      "\n",
      "Accuracy: 0.8666666666666667\n",
      "Kappa:    0.7998932764140876\n",
      "\n",
      "Fold 2\n",
      "Classes:  Any[\"setosa\",\"versicolor\",\"virginica\"]\n",
      "Matrix:   \n",
      "Accuracy: 0.9333333333333333\n",
      "Kappa:    0.8997862105825762\n",
      "\n",
      "Mean Accuracy: 0.9\n",
      "\n",
      "Fold 1\n",
      "Classes:  Any[\"setosa\",\"versicolor\",\"virginica\"]\n",
      "Matrix:   \n",
      "Accuracy: 0.9333333333333333\n",
      "Kappa:    0.8992477162815691\n",
      "\n",
      "Fold 2\n",
      "Classes:  Any[\"setosa\",\"versicolor\",\"virginica\"]\n",
      "Matrix:   "
     ]
    },
    {
     "data": {
      "text/plain": [
       "3×3 Array{Int64,2}:\n",
       " 24   2   0\n",
       "  5  21   1\n",
       "  0   4  18"
      ]
     },
     "metadata": {},
     "output_type": "display_data"
    },
    {
     "data": {
      "text/plain": [
       "3×3 Array{Int64,2}:\n",
       " 24   0   0\n",
       "  0  23   0\n",
       "  0   4  24"
      ]
     },
     "metadata": {},
     "output_type": "display_data"
    },
    {
     "data": {
      "text/plain": [
       "3×3 Array{Int64,2}:\n",
       " 30   0   0\n",
       "  0  21   2\n",
       "  0   1  21"
      ]
     },
     "metadata": {},
     "output_type": "display_data"
    },
    {
     "name": "stdout",
     "output_type": "stream",
     "text": [
      "\n",
      "Accuracy: 0.92\n",
      "Kappa:    0.8788368336025849\n",
      "\n",
      "Mean Accuracy: 0.9266666666666667\n",
      "\n",
      "Fold 1\n",
      "Classes:  Any[\"setosa\",\"versicolor\",\"virginica\"]\n",
      "Matrix:   \n",
      "Accuracy: 0.84\n",
      "Kappa:    0.7583243823845327\n",
      "\n",
      "Fold 2\n",
      "Classes:  Any[\"setosa\",\"versicolor\",\"virginica\"]\n",
      "Matrix:   \n",
      "Accuracy: 0.9466666666666667\n",
      "Kappa:    0.9201277955271567\n",
      "\n",
      "Mean Accuracy: 0.8933333333333333\n",
      "\n",
      "Fold 1\n",
      "Classes:  Any[\"setosa\",\"versicolor\",\"virginica\"]\n",
      "Matrix:   \n",
      "Accuracy: 0.96\n",
      "Kappa:    0.9394021007271748\n"
     ]
    },
    {
     "data": {
      "text/plain": [
       "3×3 Array{Int64,2}:\n",
       " 20   0   0\n",
       "  1  26   0\n",
       "  0   3  25"
      ]
     },
     "metadata": {},
     "output_type": "display_data"
    },
    {
     "data": {
      "text/plain": [
       "3×3 Array{Int64,2}:\n",
       " 24   0   0\n",
       "  3  22   1\n",
       "  0   2  23"
      ]
     },
     "metadata": {},
     "output_type": "display_data"
    },
    {
     "data": {
      "text/plain": [
       "3×3 Array{Int64,2}:\n",
       " 26   0   0\n",
       "  0  22   2\n",
       "  0   3  22"
      ]
     },
     "metadata": {},
     "output_type": "display_data"
    },
    {
     "name": "stdout",
     "output_type": "stream",
     "text": [
      "\n",
      "Fold 2\n",
      "Classes:  Any[\"setosa\",\"versicolor\",\"virginica\"]\n",
      "Matrix:   \n",
      "Accuracy: 0.9466666666666667\n",
      "Kappa:    0.9193981730252552\n",
      "\n",
      "Mean Accuracy: 0.9533333333333334\n",
      "\n",
      "Fold 1\n",
      "Classes:  Any[\"setosa\",\"versicolor\",\"virginica\"]\n",
      "Matrix:   \n",
      "Accuracy: 0.92\n",
      "Kappa:    0.880095923261391\n",
      "\n",
      "Fold 2\n",
      "Classes:  Any[\"setosa\",\"versicolor\",\"virginica\"]\n",
      "Matrix:   \n",
      "Accuracy: 0.9333333333333333\n",
      "Kappa:    0.8999733262203254\n",
      "\n",
      "Mean Accuracy: 0.9266666666666667\n"
     ]
    },
    {
     "data": {
      "text/plain": [
       "3×3 Array{Int64,2}:\n",
       " 27   0   0\n",
       "  3  21   1\n",
       "  0   0  23"
      ]
     },
     "metadata": {},
     "output_type": "display_data"
    },
    {
     "data": {
      "text/plain": [
       "3×3 Array{Int64,2}:\n",
       " 23   0   0\n",
       "  0  24   1\n",
       "  0   4  23"
      ]
     },
     "metadata": {},
     "output_type": "display_data"
    },
    {
     "data": {
      "text/plain": [
       "3×3 Array{Int64,2}:\n",
       " 25   0   0\n",
       "  1  21   5\n",
       "  0   1  22"
      ]
     },
     "metadata": {},
     "output_type": "display_data"
    },
    {
     "data": {
      "text/plain": [
       "3×3 Array{Int64,2}:\n",
       " 25   0   0\n",
       "  0  23   0\n",
       "  0   4  23"
      ]
     },
     "metadata": {},
     "output_type": "display_data"
    },
    {
     "name": "stdout",
     "output_type": "stream",
     "text": [
      "\n",
      "Fold 1\n",
      "Classes:  Any[\"setosa\",\"versicolor\",\"virginica\"]\n",
      "Matrix:   \n",
      "Accuracy: 0.9466666666666667\n",
      "Kappa:    0.9197431781701444\n",
      "\n",
      "Fold 2\n",
      "Classes:  Any[\"setosa\",\"versicolor\",\"virginica\"]\n",
      "Matrix:   \n",
      "Accuracy: 0.9333333333333333\n",
      "Kappa:    0.8999466382070438\n",
      "\n",
      "Mean Accuracy: 0.94\n",
      "\n",
      "Fold 1\n",
      "Classes:  Any[\"setosa\",\"versicolor\",\"virginica\"]\n",
      "Matrix:   \n",
      "Accuracy: 0.9066666666666666\n",
      "Kappa:    0.860372340425532\n",
      "\n",
      "Fold 2\n",
      "Classes:  Any[\"setosa\",\"versicolor\",\"virginica\"]\n",
      "Matrix:   \n",
      "Accuracy: 0.9466666666666667\n",
      "Kappa:    0.9201703033528471\n",
      "\n",
      "Mean Accuracy: 0.9266666666666666\n"
     ]
    },
    {
     "data": {
      "text/plain": [
       "3×3 Array{Int64,2}:\n",
       " 28   0   0\n",
       "  0  21   3\n",
       "  0   1  22"
      ]
     },
     "metadata": {},
     "output_type": "display_data"
    },
    {
     "data": {
      "text/plain": [
       "3×3 Array{Int64,2}:\n",
       " 22   0   0\n",
       "  0  26   0\n",
       "  0  11  16"
      ]
     },
     "metadata": {},
     "output_type": "display_data"
    },
    {
     "data": {
      "text/plain": [
       "3×3 Array{Int64,2}:\n",
       " 24   0   0\n",
       "  7  16   4\n",
       "  0   0  24"
      ]
     },
     "metadata": {},
     "output_type": "display_data"
    },
    {
     "data": {
      "text/plain": [
       "3×3 Array{Int64,2}:\n",
       " 26   0   0\n",
       "  3  18   2\n",
       "  0   3  23"
      ]
     },
     "metadata": {},
     "output_type": "display_data"
    },
    {
     "name": "stdout",
     "output_type": "stream",
     "text": [
      "\n",
      "Fold 1\n",
      "Classes:  Any[\"setosa\",\"versicolor\",\"virginica\"]\n",
      "Matrix:   \n",
      "Accuracy: 0.9466666666666667\n",
      "Kappa:    0.9197431781701444\n",
      "\n",
      "Fold 2\n",
      "Classes:  Any[\"setosa\",\"versicolor\",\"virginica\"]\n",
      "Matrix:   \n",
      "Accuracy: 0.8533333333333334\n",
      "Kappa:    0.7798238590872699\n",
      "\n",
      "Mean Accuracy: 0.9\n",
      "\n",
      "Fold 1\n",
      "Classes:  Any[\"setosa\",\"versicolor\",\"virginica\"]\n",
      "Matrix:   \n",
      "Accuracy: 0.8533333333333334\n",
      "Kappa:    0.7815726767275616\n",
      "\n",
      "Fold 2\n",
      "Classes:  Any[\"setosa\",\"versicolor\",\"virginica\"]\n",
      "Matrix:   "
     ]
    },
    {
     "data": {
      "text/plain": [
       "3×3 Array{Int64,2}:\n",
       " 22   0   0\n",
       "  0  17   8\n",
       "  0   0  28"
      ]
     },
     "metadata": {},
     "output_type": "display_data"
    },
    {
     "data": {
      "text/plain": [
       "3×3 Array{Int64,2}:\n",
       " 28   0   0\n",
       "  3  22   0\n",
       "  0   1  21"
      ]
     },
     "metadata": {},
     "output_type": "display_data"
    },
    {
     "data": {
      "text/plain": [
       "3×3 Array{Int64,2}:\n",
       " 25   0   0\n",
       "  0  22   3\n",
       "  0   4  21"
      ]
     },
     "metadata": {},
     "output_type": "display_data"
    },
    {
     "name": "stdout",
     "output_type": "stream",
     "text": [
      "\n",
      "Accuracy: 0.8933333333333333\n",
      "Kappa:    0.8394863563402889\n",
      "\n",
      "Mean Accuracy: 0.8733333333333333\n",
      "\n",
      "Fold 1\n",
      "Classes:  Any[\"setosa\",\"versicolor\",\"virginica\"]\n",
      "Matrix:   \n",
      "Accuracy: 0.8933333333333333\n",
      "Kappa:    0.8381877022653721\n",
      "\n",
      "Fold 2\n",
      "Classes:  Any[\"setosa\",\"versicolor\",\"virginica\"]\n",
      "Matrix:   \n",
      "Accuracy: 0.9466666666666667\n",
      "Kappa:    0.9193548387096774\n",
      "\n",
      "Mean Accuracy: 0.9199999999999999\n",
      "\n",
      "Fold 1\n",
      "Classes:  Any[\"setosa\",\"versicolor\",\"virginica\"]\n",
      "Matrix:   "
     ]
    },
    {
     "data": {
      "text/plain": [
       "3×3 Array{Int64,2}:\n",
       " 25   0   0\n",
       "  1  23   1\n",
       "  0   2  23"
      ]
     },
     "metadata": {},
     "output_type": "display_data"
    },
    {
     "data": {
      "text/plain": [
       "3×3 Array{Int64,2}:\n",
       " 27   0   0\n",
       "  0  21   2\n",
       "  0   3  22"
      ]
     },
     "metadata": {},
     "output_type": "display_data"
    },
    {
     "data": {
      "text/plain": [
       "3×3 Array{Int64,2}:\n",
       " 23   0   0\n",
       "  1  22   4\n",
       "  0   3  22"
      ]
     },
     "metadata": {},
     "output_type": "display_data"
    },
    {
     "name": "stdout",
     "output_type": "stream",
     "text": [
      "\n",
      "Accuracy: 0.9066666666666666\n",
      "Kappa:    0.8599999999999998\n",
      "\n",
      "Fold 2\n",
      "Classes:  Any[\"setosa\",\"versicolor\",\"virginica\"]\n",
      "Matrix:   \n",
      "Accuracy: 0.9466666666666667\n",
      "Kappa:    0.9199999999999998\n",
      "\n",
      "Mean Accuracy: 0.9266666666666666\n",
      "\n",
      "Fold 1\n",
      "Classes:  Any[\"setosa\",\"versicolor\",\"virginica\"]\n",
      "Matrix:   \n",
      "Accuracy: 0.9333333333333333\n",
      "Kappa:    0.8998397435897436\n",
      "\n",
      "Fold 2\n",
      "Classes:  Any[\"setosa\",\"versicolor\",\"virginica\"]\n",
      "Matrix:   "
     ]
    },
    {
     "data": {
      "text/plain": [
       "3×3 Array{Int64,2}:\n",
       " 24   1   1\n",
       "  1  21   3\n",
       "  0   3  21"
      ]
     },
     "metadata": {},
     "output_type": "display_data"
    },
    {
     "data": {
      "text/plain": [
       "3×3 Array{Int64,2}:\n",
       " 15   9   0\n",
       "  0  24   1\n",
       "  0   4  22"
      ]
     },
     "metadata": {},
     "output_type": "display_data"
    },
    {
     "name": "stdout",
     "output_type": "stream",
     "text": [
      "\n",
      "Accuracy: 0.8933333333333333\n",
      "Kappa:    0.83991462113127\n",
      "\n",
      "Mean Accuracy: 0.9133333333333333\n",
      "\n",
      "Fold 1\n",
      "Classes:  Any[\"setosa\",\"versicolor\",\"virginica\"]\n",
      "Matrix:   \n",
      "Accuracy: 0.88\n",
      "Kappa:    0.8199999999999998\n",
      "\n",
      "Fold 2\n",
      "Classes:  Any[\"setosa\",\"versicolor\",\"virginica\"]\n",
      "Matrix:   \n",
      "Accuracy: 0.8133333333333334\n",
      "Kappa:    0.7194013896312133\n",
      "\n",
      "Mean Accuracy: 0.8466666666666667\n"
     ]
    },
    {
     "data": {
      "text/plain": [
       "3×3 Array{Int64,2}:\n",
       " 25   4   0\n",
       "  5  18   0\n",
       "  0   5  18"
      ]
     },
     "metadata": {},
     "output_type": "display_data"
    },
    {
     "data": {
      "text/plain": [
       "3×3 Array{Int64,2}:\n",
       " 21   0   0\n",
       "  0  23   4\n",
       "  0   1  26"
      ]
     },
     "metadata": {},
     "output_type": "display_data"
    },
    {
     "data": {
      "text/plain": [
       "3×3 Array{Int64,2}:\n",
       " 24   0   0\n",
       "  1  24   1\n",
       "  0   2  23"
      ]
     },
     "metadata": {},
     "output_type": "display_data"
    },
    {
     "name": "stdout",
     "output_type": "stream",
     "text": [
      "\n",
      "Fold 1\n",
      "Classes:  Any[\"setosa\",\"versicolor\",\"virginica\"]\n",
      "Matrix:   \n",
      "Accuracy: 0.8133333333333334\n",
      "Kappa:    0.717741935483871\n",
      "\n",
      "Fold 2\n",
      "Classes:  Any[\"setosa\",\"versicolor\",\"virginica\"]\n",
      "Matrix:   \n",
      "Accuracy: 0.9333333333333333\n",
      "Kappa:    0.8993558776167472\n",
      "\n",
      "Mean Accuracy: 0.8733333333333333\n",
      "\n",
      "Fold 1\n",
      "Classes:  Any[\"setosa\",\"versicolor\",\"virginica\"]\n",
      "Matrix:   \n",
      "Accuracy: 0.9466666666666667\n",
      "Kappa:    0.9199786609762604\n"
     ]
    },
    {
     "data": {
      "text/plain": [
       "3×3 Array{Int64,2}:\n",
       " 26   0   0\n",
       "  0  24   0\n",
       "  0   9  16"
      ]
     },
     "metadata": {},
     "output_type": "display_data"
    },
    {
     "name": "stdout",
     "output_type": "stream",
     "text": [
      "\n",
      "Fold 2\n",
      "Classes:  Any[\"setosa\",\"versicolor\",\"virginica\"]\n",
      "Matrix:   \n",
      "Accuracy: 0.88\n",
      "Kappa:    0.820335373968592\n",
      "\n",
      "Mean Accuracy: 0.9133333333333333\n",
      "Overall Acc:91.71111111111112 12.187012 seconds (5.45 M allocations: 239.018 MB, 1.82% gc time)\n"
     ]
    }
   ],
   "source": [
    "n=30\n",
    "@time begin \n",
    "    s=0\n",
    "    for i=1:n\n",
    "        s += irisAcc()\n",
    "    end\n",
    "    print(\"Overall Acc:\",s/n*100.0)\n",
    "end"
   ]
  },
  {
   "cell_type": "code",
   "execution_count": 26,
   "metadata": {
    "collapsed": false
   },
   "outputs": [
    {
     "name": "stdout",
     "output_type": "stream",
     "text": [
      "\tFrom worker 2:\t\n",
      "\tFrom worker 2:\tFold 1\n",
      "\tFrom worker 4:\t\n",
      "\tFrom worker 4:\tFold 1\n",
      "\tFrom worker 5:\t\n",
      "\tFrom worker 3:\t\n",
      "\tFrom worker 5:\tFold 1\n",
      "\tFrom worker 3:\tFold 1\n",
      "\tFrom worker 4:\tClasses:  Any[\"setosa\",\"versicolor\",\"virginica\"]\n",
      "\tFrom worker 5:\tClasses:  Any[\"setosa\",\"versicolor\",\"virginica\"]\n",
      "\tFrom worker 2:\tClasses:  Any[\"setosa\",\"versicolor\",\"virginica\"]\n",
      "\tFrom worker 3:\tClasses:  Any[\"setosa\",\"versicolor\",\"virginica\"]\n",
      "\tFrom worker 2:\tMatrix:   3×3 Array{Int64,2}:\n",
      "\tFrom worker 4:\tMatrix:   3×3 Array{Int64,2}:\n",
      "\tFrom worker 5:\tMatrix:   3×3 Array{Int64,2}:\n",
      "\tFrom worker 3:\tMatrix:   3×3 Array{Int64,2}:\n",
      "\tFrom worker 2:\t 17   0   0\n",
      "\tFrom worker 2:\t  3  29   2\n",
      "\tFrom worker 2:\t  0   1  23\n",
      "\tFrom worker 2:\tAccuracy: 0.92\n",
      "\tFrom worker 2:\tKappa:    0.8772169167803547\n",
      "\tFrom worker 4:\t 24   0   0\n",
      "\tFrom worker 4:\t  1  25   2\n",
      "\tFrom worker 4:\t  0   0  23\n",
      "\tFrom worker 4:\tAccuracy: 0.96\n",
      "\tFrom worker 4:\tKappa:    0.94\n",
      "\tFrom worker 3:\t 22   0   0\n",
      "\tFrom worker 3:\t  3  22   4\n",
      "\tFrom worker 3:\t  0   1  23\n",
      "\tFrom worker 3:\tAccuracy: 0.8933333333333333\n",
      "\tFrom worker 3:\tKappa:    0.8404255319148936\n",
      "\tFrom worker 2:\t\n",
      "\tFrom worker 2:\tFold 2\n",
      "\tFrom worker 2:\tClasses:  Any[\"setosa\",\"versicolor\",\"virginica\"]\n",
      "\tFrom worker 4:\t\n",
      "\tFrom worker 4:\tFold 2\n",
      "\tFrom worker 4:\tClasses:  Any[\"setosa\",\"versicolor\",\"virginica\"]\n",
      "\tFrom worker 5:\t 23   0   0\n",
      "\tFrom worker 5:\t  1  22   0\n",
      "\tFrom worker 5:\t  0  11  18\n",
      "\tFrom worker 5:\tAccuracy: 0.84\n",
      "\tFrom worker 5:\tKappa:    0.7626582278481013\n",
      "\tFrom worker 4:\tMatrix:   3×3 Array{Int64,2}:\n",
      "\tFrom worker 2:\tMatrix:   3×3 Array{Int64,2}:\n",
      "\tFrom worker 4:\t 26   0   0\n",
      "\tFrom worker 4:\t  2  19   1\n",
      "\tFrom worker 4:\t  0   4  23\n",
      "\tFrom worker 4:\tAccuracy: 0.9066666666666666\n",
      "\tFrom worker 4:\tKappa:    0.8597381779321399\n",
      "\tFrom worker 3:\t\n",
      "\tFrom worker 3:\tFold 2\n",
      "\tFrom worker 3:\tClasses:  Any[\"setosa\",\"versicolor\",\"virginica\"]\n",
      "\tFrom worker 2:\t 33   0   0\n",
      "\tFrom worker 2:\t  0  15   1\n",
      "\tFrom worker 2:\t  0   1  25\n",
      "\tFrom worker 2:\tAccuracy: 0.9733333333333334\n",
      "\tFrom worker 2:\tKappa:    0.958379578246393\n",
      "\tFrom worker 5:\t\n",
      "\tFrom worker 5:\tFold 2\n",
      "\tFrom worker 5:\tClasses:  Any[\"setosa\",\"versicolor\",\"virginica\"]\n",
      "\tFrom worker 3:\tMatrix:   3×3 Array{Int64,2}:\n",
      "\tFrom worker 3:\t 28   0   0\n",
      "\tFrom worker 3:\t  0  21   0\n",
      "\tFrom worker 3:\t  0   1  25\n",
      "\tFrom worker 3:\tAccuracy: 0.9866666666666667\n",
      "\tFrom worker 3:\tKappa:    0.9798873692679001\n",
      "\tFrom worker 5:\tMatrix:   3×3 Array{Int64,2}:\n",
      "\tFrom worker 5:\t 27   0   0\n",
      "\tFrom worker 5:\t  6  20   1\n",
      "\tFrom worker 5:\t  0   1  20\n",
      "\tFrom worker 5:\tAccuracy: 0.8933333333333333\n",
      "\tFrom worker 5:\tKappa:    0.8389694041867954\n",
      "\tFrom worker 2:\t\n",
      "\tFrom worker 4:\t\n",
      "\tFrom worker 2:\tMean Accuracy: 0.9466666666666668\n",
      "\tFrom worker 4:\tMean Accuracy: 0.9333333333333333\n",
      "\tFrom worker 3:\t\n",
      "\tFrom worker 3:\tMean Accuracy: 0.94\n",
      "\tFrom worker 5:\t\n",
      "\tFrom worker 5:\tMean Accuracy: 0.8666666666666667\n",
      "\tFrom worker 4:\t\n",
      "\tFrom worker 4:\tFold 1\n",
      "\tFrom worker 4:\tClasses:  Any[\"setosa\",\"versicolor\",\"virginica\"]\n",
      "\tFrom worker 2:\t\n",
      "\tFrom worker 2:\tFold 1\n",
      "\tFrom worker 2:\tClasses:  Any[\"setosa\",\"versicolor\",\"virginica\"]\n",
      "\tFrom worker 3:\t\n",
      "\tFrom worker 3:\tFold 1\n",
      "\tFrom worker 3:\tClasses:  Any[\"setosa\",\"versicolor\",\"virginica\"]\n",
      "\tFrom worker 4:\tMatrix:   3×3 Array{Int64,2}:\n",
      "\tFrom worker 2:\tMatrix:   3×3 Array{Int64,2}:\n",
      "\tFrom worker 2:\t 26   0   0\n",
      "\tFrom worker 4:\t 20   0   0\n",
      "\tFrom worker 2:\t  0  27   1\n",
      "\tFrom worker 4:\t  5  19   0\n",
      "\tFrom worker 2:\t  0   1  20\n",
      "\tFrom worker 2:\tAccuracy: 0.9733333333333334\n",
      "\tFrom worker 4:\t  0   4  27\n",
      "\tFrom worker 2:\tKappa:    0.9597207303974222\n",
      "\tFrom worker 4:\tAccuracy: 0.88\n",
      "\tFrom worker 4:\tKappa:    0.8193254817987152\n",
      "\tFrom worker 3:\tMatrix:   3×3 Array{Int64,2}:\n",
      "\tFrom worker 3:\t 25   0   0\n",
      "\tFrom worker 3:\t  7  21   1\n",
      "\tFrom worker 3:\t  0   4  17\n",
      "\tFrom worker 3:\tAccuracy: 0.84\n",
      "\tFrom worker 3:\tKappa:    0.7581945190757656\n",
      "\tFrom worker 4:\t\n",
      "\tFrom worker 4:\tFold 2\n",
      "\tFrom worker 2:\t\n",
      "\tFrom worker 2:\tFold 2\n",
      "\tFrom worker 4:\tClasses:  Any[\"setosa\",\"versicolor\",\"virginica\"]\n",
      "\tFrom worker 2:\tClasses:  Any[\"setosa\",\"versicolor\",\"virginica\"]\n",
      "\tFrom worker 4:\tMatrix:   3×3 Array{Int64,2}:\n",
      "\tFrom worker 2:\tMatrix:   3×3 Array{Int64,2}:\n",
      "\tFrom worker 4:\t 30   0   0\n",
      "\tFrom worker 4:\t  0  22   4\n",
      "\tFrom worker 4:\t  0   0  19\n",
      "\tFrom worker 4:\tAccuracy: 0.9466666666666667\n",
      "\tFrom worker 4:\tKappa:    0.9192680301399354\n",
      "\tFrom worker 4:\t\n",
      "\tFrom worker 4:\tMean Accuracy: 0.9133333333333333\n",
      "\tFrom worker 5:\t\n",
      "\tFrom worker 5:\tFold 1\n",
      "\tFrom worker 5:\tClasses:  Any[\"setosa\",\"versicolor\",\"virginica\"]\n",
      "\tFrom worker 2:\t 24   0   0\n",
      "\tFrom worker 2:\t  0  21   1\n",
      "\tFrom worker 2:\t  0   3  26\n",
      "\tFrom worker 2:\tAccuracy: 0.9466666666666667\n",
      "\tFrom worker 2:\tKappa:    0.9197431781701444\n",
      "\tFrom worker 2:\t\n",
      "\tFrom worker 2:\tMean Accuracy: 0.96\n",
      "\tFrom worker 3:\t\n",
      "\tFrom worker 3:\tFold 2\n",
      "\tFrom worker 3:\tClasses:  Any[\"setosa\",\"versicolor\",\"virginica\"]\n",
      "\tFrom worker 5:\tMatrix:   3×3 Array{Int64,2}:\n",
      "\tFrom worker 5:\t 28   0   0\n",
      "\tFrom worker 5:\t  1  23   2\n",
      "\tFrom worker 5:\t  0   0  21\n",
      "\tFrom worker 5:\tAccuracy: 0.96\n",
      "\tFrom worker 5:\tKappa:    0.9397106109324759\n",
      "\tFrom worker 3:\tMatrix:   3×3 Array{Int64,2}:\n",
      "\tFrom worker 4:\t\n",
      "\tFrom worker 4:\tFold 1\n",
      "\tFrom worker 4:\tClasses:  Any[\"setosa\",\"versicolor\",\"virginica\"]\n",
      "\tFrom worker 5:\t\n",
      "\tFrom worker 3:\t 25   0   0\n",
      "\tFrom worker 5:\tFold 2\n",
      "\tFrom worker 3:\t  0  19   2\n",
      "\tFrom worker 3:\t  0   2  27\n",
      "\tFrom worker 5:\tClasses:  Any[\"setosa\",\"versicolor\",\"virginica\"]\n",
      "\tFrom worker 3:\tAccuracy: 0.9466666666666667\n",
      "\tFrom worker 3:\tKappa:    0.9193114577729962\n",
      "\tFrom worker 3:\t\n",
      "\tFrom worker 3:\tMean Accuracy: 0.8933333333333333\n",
      "\tFrom worker 2:\t\n",
      "\tFrom worker 2:\tFold 1\n",
      "\tFrom worker 2:\tClasses:  Any[\"setosa\",\"versicolor\",\"virginica\"]\n",
      "\tFrom worker 4:\tMatrix:   3×3 Array{Int64,2}:\n",
      "\tFrom worker 4:\t 27   0   0\n",
      "\tFrom worker 4:\t  0  24   2\n",
      "\tFrom worker 4:\t  0   0  22\n",
      "\tFrom worker 4:\tAccuracy: 0.9733333333333334\n",
      "\tFrom worker 4:\tKappa:    0.9599358974358975\n",
      "\tFrom worker 5:\tMatrix:   3×3 Array{Int64,2}:\n",
      "\tFrom worker 2:\tMatrix:   3×3 Array{Int64,2}:\n",
      "\tFrom worker 5:\t 22   0   0\n",
      "\tFrom worker 5:\t  0  23   1\n",
      "\tFrom worker 5:\t  0   2  27\n",
      "\tFrom worker 5:\tAccuracy: 0.96\n",
      "\tFrom worker 5:\tKappa:    0.9396621078037006\n",
      "\tFrom worker 5:\t\n",
      "\tFrom worker 5:\tMean Accuracy: 0.96\n",
      "\tFrom worker 4:\t\n",
      "\tFrom worker 4:\tFold 2\n",
      "\tFrom worker 4:\tClasses:  Any[\"setosa\",\"versicolor\",\"virginica\"]\n",
      "\tFrom worker 3:\t\n",
      "\tFrom worker 3:\tFold 1\n",
      "\tFrom worker 3:\tClasses:  Any[\"setosa\",\"versicolor\",\"virginica\"]\n",
      "\tFrom worker 2:\t 25   0   0\n",
      "\tFrom worker 2:\t  0  26   0\n",
      "\tFrom worker 2:\t  0   4  20\n",
      "\tFrom worker 2:\tAccuracy: 0.9466666666666667\n",
      "\tFrom worker 2:\tKappa:    0.9197860962566845\n",
      "\tFrom worker 4:\tMatrix:   3×3 Array{Int64,2}:\n",
      "\tFrom worker 3:\tMatrix:   3×3 Array{Int64,2}:\n",
      "\tFrom worker 4:\t 23   0   0\n",
      "\tFrom worker 4:\t  3  21   0\n",
      "\tFrom worker 4:\t  0   4  24\n",
      "\tFrom worker 4:\tAccuracy: 0.9066666666666666\n",
      "\tFrom worker 4:\tKappa:    0.8601864181091877\n",
      "\tFrom worker 4:\t\n",
      "\tFrom worker 4:\tMean Accuracy: 0.94\n",
      "\tFrom worker 2:\t\n",
      "\tFrom worker 2:\tFold 2\n",
      "\tFrom worker 2:\tClasses:  Any[\"setosa\",\"versicolor\",\"virginica\"]\n",
      "\tFrom worker 3:\t 26   0   0\n",
      "\tFrom worker 3:\t  0  22   2\n",
      "\tFrom worker 3:\t  0   1  24\n",
      "\tFrom worker 3:\tAccuracy: 0.96\n",
      "\tFrom worker 3:\tKappa:    0.9399519615692553\n",
      "\tFrom worker 5:\t\n",
      "\tFrom worker 5:\tFold 1\n",
      "\tFrom worker 5:\tClasses:  Any[\"setosa\",\"versicolor\",\"virginica\"]\n",
      "\tFrom worker 2:\tMatrix:   3×3 Array{Int64,2}:\n",
      "\tFrom worker 5:\tMatrix:   3×3 Array{Int64,2}:\n",
      "\tFrom worker 5:\t 29   0   0\n",
      "\tFrom worker 5:\t  0  23   0\n",
      "\tFrom worker 5:\t  0   1  22\n",
      "\tFrom worker 5:\tAccuracy: 0.9866666666666667\n",
      "\tFrom worker 5:\tKappa:    0.9798711755233495\n",
      "\tFrom worker 2:\t 25   0   0\n",
      "\tFrom worker 2:\t  3  20   1\n",
      "\tFrom worker 2:\t  0   3  23\n",
      "\tFrom worker 2:\tAccuracy: 0.9066666666666666\n",
      "\tFrom worker 2:\tKappa:    0.8599626567084555\n",
      "\tFrom worker 2:\t\n",
      "\tFrom worker 2:\tMean Accuracy: 0.9266666666666666\n",
      "\tFrom worker 3:\t\n",
      "\tFrom worker 3:\tFold 2\n",
      "\tFrom worker 3:\tClasses:  Any[\"setosa\",\"versicolor\",\"virginica\"]\n",
      "\tFrom worker 4:\t\n",
      "\tFrom worker 4:\tFold 1\n",
      "\tFrom worker 4:\tClasses:  Any[\"setosa\",\"versicolor\",\"virginica\"]\n",
      "\tFrom worker 5:\t\n",
      "\tFrom worker 5:\tFold 2\n",
      "\tFrom worker 5:\tClasses:  Any[\"setosa\",\"versicolor\",\"virginica\"]\n",
      "\tFrom worker 3:\tMatrix:   3×3 Array{Int64,2}:\n",
      "\tFrom worker 3:\t 24   0   0\n",
      "\tFrom worker 3:\t  0  22   4\n",
      "\tFrom worker 3:\t  0   5  20\n",
      "\tFrom worker 3:\tAccuracy: 0.88\n",
      "\tFrom worker 3:\tKappa:    0.8198558847077663\n",
      "\tFrom worker 3:\t\n",
      "\tFrom worker 3:\tMean Accuracy: 0.9199999999999999\n",
      "\tFrom worker 4:\tMatrix:   3×3 Array{Int64,2}:\n",
      "\tFrom worker 5:\tMatrix:   3×3 Array{Int64,2}:\n",
      "\tFrom worker 4:\t 18   1   0\n",
      "\tFrom worker 4:\t  0  30   2\n",
      "\tFrom worker 4:\t  0   4  20\n",
      "\tFrom worker 4:\tAccuracy: 0.9066666666666666\n",
      "\tFrom worker 4:\tKappa:    0.855570839064649\n",
      "\tFrom worker 5:\t 21   0   0\n",
      "\tFrom worker 5:\t  0  26   1\n",
      "\tFrom worker 5:\t  0   6  21\n",
      "\tFrom worker 5:\tAccuracy: 0.9066666666666666\n",
      "\tFrom worker 2:\t\n",
      "\tFrom worker 5:\tKappa:    0.859098228663446\n",
      "\tFrom worker 5:\t\n",
      "\tFrom worker 5:\tMean Accuracy: 0.9466666666666667\n",
      "\tFrom worker 2:\tFold 1\n",
      "\tFrom worker 2:\tClasses:  Any[\"setosa\",\"versicolor\",\"virginica\"]\n",
      "\tFrom worker 4:\t\n",
      "\tFrom worker 4:\tFold 2\n",
      "\tFrom worker 4:\tClasses:  Any[\"setosa\",\"versicolor\",\"virginica\"]\n",
      "\tFrom worker 4:\tMatrix:   3×3 Array{Int64,2}:\n",
      "\tFrom worker 2:\tMatrix:   3×3 Array{Int64,2}:\n",
      "\tFrom worker 4:\t 31   0   0\n",
      "\tFrom worker 4:\t  1  15   2\n",
      "\tFrom worker 4:\t  0   2  24\n",
      "\tFrom worker 4:\tAccuracy: 0.9333333333333333\n",
      "\tFrom worker 4:\tKappa:    0.8972884141331142\n",
      "\tFrom worker 4:\t\n",
      "\tFrom worker 4:\tMean Accuracy: 0.9199999999999999\n",
      "\tFrom worker 2:\t 27   0   0\n",
      "\tFrom worker 2:\t  0  18   4\n",
      "\tFrom worker 2:\t  0   0  26\n",
      "\tFrom worker 2:\tAccuracy: 0.9466666666666667\n",
      "\tFrom worker 3:\t\n",
      "\tFrom worker 3:\tFold 1\n",
      "\tFrom worker 2:\tKappa:    0.9193548387096774\n",
      "\tFrom worker 3:\tClasses:  Any[\"setosa\",\"versicolor\",\"virginica\"]\n",
      "\tFrom worker 5:\t\n",
      "\tFrom worker 5:\tFold 1\n",
      "\tFrom worker 5:\tClasses:  Any[\"setosa\",\"versicolor\",\"virginica\"]\n",
      "\tFrom worker 5:\tMatrix:   3×3 Array{Int64,2}:\n",
      "\tFrom worker 3:\tMatrix:   3×3 Array{Int64,2}:\n",
      "\tFrom worker 5:\t 24   0   0\n",
      "\tFrom worker 2:\t\n",
      "\tFrom worker 5:\t  0  23   2\n",
      "\tFrom worker 2:\tFold 2\n",
      "\tFrom worker 5:\t  0   3  23\n",
      "\tFrom worker 2:\tClasses:  Any[\"setosa\",\"versicolor\",\"virginica\"]\n",
      "\tFrom worker 5:\tAccuracy: 0.9333333333333333\n",
      "\tFrom worker 5:\tKappa:    0.8999733262203254\n",
      "\tFrom worker 3:\t 22   0   0\n",
      "\tFrom worker 3:\t  1  22   1\n",
      "\tFrom worker 3:\t  0   1  28\n",
      "\tFrom worker 3:\tAccuracy: 0.96\n",
      "\tFrom worker 3:\tKappa:    0.9396135265700483\n",
      "\tFrom worker 4:\t\n",
      "\tFrom worker 4:\tFold 1\n",
      "\tFrom worker 4:\tClasses:  Any[\"setosa\",\"versicolor\",\"virginica\"]\n",
      "\tFrom worker 2:\tMatrix:   3×3 Array{Int64,2}:\n",
      "\tFrom worker 5:\t\n",
      "\tFrom worker 5:\tFold 2\n",
      "\tFrom worker 5:\tClasses:  Any[\"setosa\",\"versicolor\",\"virginica\"]\n",
      "\tFrom worker 2:\t 23   0   0\n",
      "\tFrom worker 3:\t\n",
      "\tFrom worker 2:\t  0  28   0\n",
      "\tFrom worker 3:\tFold 2\n",
      "\tFrom worker 2:\t  0   4  20\n",
      "\tFrom worker 2:\tAccuracy: 0.9466666666666667\n",
      "\tFrom worker 3:\tClasses:  Any[\"setosa\",\"versicolor\",\"virginica\"]\n",
      "\tFrom worker 2:\tKappa:    0.9193548387096774\n",
      "\tFrom worker 2:\t\n",
      "\tFrom worker 2:\tMean Accuracy: 0.9466666666666667\n",
      "\tFrom worker 4:\tMatrix:   3×3 Array{Int64,2}:\n",
      "\tFrom worker 4:\t 21   0   0\n",
      "\tFrom worker 4:\t  4  25   0\n",
      "\tFrom worker 4:\t  0   3  22\n",
      "\tFrom worker 4:\tAccuracy: 0.9066666666666666\n",
      "\tFrom worker 4:\tKappa:    0.8595505617977527\n",
      "\tFrom worker 5:\tMatrix:   3×3 Array{Int64,2}:\n",
      "\tFrom worker 5:\t 26   0   0\n",
      "\tFrom worker 5:\t  4  20   1\n",
      "\tFrom worker 5:\t  0   2  22\n",
      "\tFrom worker 5:\tAccuracy: 0.9066666666666666\n",
      "\tFrom worker 5:\tKappa:    0.8597381779321399\n",
      "\tFrom worker 5:\t\n",
      "\tFrom worker 5:\tMean Accuracy: 0.9199999999999999\n",
      "\tFrom worker 3:\tMatrix:   3×3 Array{Int64,2}:\n",
      "\tFrom worker 4:\t\n",
      "\tFrom worker 3:\t 28   0   0\n",
      "\tFrom worker 3:\t  0  24   2\n",
      "\tFrom worker 3:\t  0   2  19\n",
      "\tFrom worker 3:\tAccuracy: 0.9466666666666667\n",
      "\tFrom worker 3:\tKappa:    0.9194414607948442\n",
      "\tFrom worker 3:\t\n",
      "\tFrom worker 3:\tMean Accuracy: 0.9533333333333334\n",
      "\tFrom worker 4:\tFold 2\n",
      "\tFrom worker 4:\tClasses:  Any[\"setosa\",\"versicolor\",\"virginica\"]\n",
      "\tFrom worker 2:\t\n",
      "\tFrom worker 2:\tFold 1\n",
      "\tFrom worker 2:\tClasses:  Any[\"setosa\",\"versicolor\",\"virginica\"]\n",
      "\tFrom worker 5:\t\n",
      "\tFrom worker 5:\tFold 1\n",
      "\tFrom worker 5:\tClasses:  Any[\"setosa\",\"versicolor\",\"virginica\"]\n",
      "\tFrom worker 2:\tMatrix:   3×3 Array{Int64,2}:\n",
      "\tFrom worker 4:\tMatrix:   3×3 Array{Int64,2}:\n",
      "\tFrom worker 2:\t 24   0   0\n",
      "\tFrom worker 2:\t  0  23   0\n",
      "\tFrom worker 2:\t  0   4  24\n",
      "\tFrom worker 2:\tAccuracy: 0.9466666666666667\n",
      "\tFrom worker 2:\tKappa:    0.9201277955271567\n",
      "\tFrom worker 4:\t 29   0   0\n",
      "\tFrom worker 4:\t  0  18   3\n",
      "\tFrom worker 4:\t  0   1  24\n",
      "\tFrom worker 4:\tAccuracy: 0.9466666666666667\n",
      "\tFrom worker 4:\tKappa:    0.9191374663072777\n",
      "\tFrom worker 4:\t\n",
      "\tFrom worker 4:\tMean Accuracy: 0.9266666666666666\n",
      "\tFrom worker 3:\t\n",
      "\tFrom worker 3:\tFold 1\n",
      "\tFrom worker 3:\tClasses:  Any[\"setosa\",\"versicolor\",\"virginica\"]\n",
      "\tFrom worker 5:\tMatrix:   3×3 Array{Int64,2}:\n",
      "\tFrom worker 5:\t 21   0   0\n",
      "\tFrom worker 2:\t\n",
      "\tFrom worker 5:\t  0  24   0\n",
      "\tFrom worker 2:\tFold 2\n",
      "\tFrom worker 5:\t  0   3  27\n",
      "\tFrom worker 2:\tClasses:  Any[\"setosa\",\"versicolor\",\"virginica\"]\n",
      "\tFrom worker 5:\tAccuracy: 0.96\n",
      "\tFrom worker 5:\tKappa:    0.9396135265700483\n",
      "\tFrom worker 3:\tMatrix:   3×3 Array{Int64,2}:\n",
      "\tFrom worker 3:\t 28   0   0\n",
      "\tFrom worker 3:\t  1  20   3\n",
      "\tFrom worker 3:\t  0   0  23\n",
      "\tFrom worker 3:\tAccuracy: 0.9466666666666667\n",
      "\tFrom worker 3:\tKappa:    0.9196787148594379\n",
      "\tFrom worker 2:\tMatrix:   3×3 Array{Int64,2}:\n",
      "\tFrom worker 5:\t\n",
      "\tFrom worker 5:\tFold 2\n",
      "\tFrom worker 5:\tClasses:  Any[\"setosa\",\"versicolor\",\"virginica\"]\n",
      "\tFrom worker 4:\t\n",
      "\tFrom worker 4:\tFold 1\n",
      "\tFrom worker 4:\tClasses:  Any[\"setosa\",\"versicolor\",\"virginica\"]\n",
      "\tFrom worker 3:\t\n",
      "\tFrom worker 3:\tFold 2\n",
      "\tFrom worker 3:\tClasses:  Any[\"setosa\",\"versicolor\",\"virginica\"]\n",
      "\tFrom worker 2:\t 26   0   0\n",
      "\tFrom worker 2:\t  3  23   1\n",
      "\tFrom worker 2:\t  0   2  20\n",
      "\tFrom worker 2:\tAccuracy: 0.92\n",
      "\tFrom worker 2:\tKappa:    0.8794858061060525\n",
      "\tFrom worker 2:\t\n",
      "\tFrom worker 2:\tMean Accuracy: 0.9333333333333333\n",
      "\tFrom worker 5:\tMatrix:   3×3 Array{Int64,2}:\n",
      "\tFrom worker 5:\t 29   0   0\n",
      "\tFrom worker 5:\t  3  21   2\n",
      "\tFrom worker 5:\t  0   3  17\n",
      "\tFrom worker 5:\tAccuracy: 0.8933333333333333\n",
      "\tFrom worker 5:\tKappa:    0.8375304630381804\n",
      "\tFrom worker 5:\t\n",
      "\tFrom worker 5:\tMean Accuracy: 0.9266666666666666\n",
      "\tFrom worker 4:\tMatrix:   3×3 Array{Int64,2}:\n",
      "\tFrom worker 3:\tMatrix:   3×3 Array{Int64,2}:\n",
      "\tFrom worker 4:\t 25   0   0\n",
      "\tFrom worker 4:\t  1  26   0\n",
      "\tFrom worker 4:\t  0   1  22\n",
      "\tFrom worker 4:\tAccuracy: 0.9733333333333334\n",
      "\tFrom worker 4:\tKappa:    0.9598930481283423\n",
      "\tFrom worker 4:\t\n",
      "\tFrom worker 4:\tFold 2\n",
      "\tFrom worker 4:\tClasses:  Any[\"setosa\",\"versicolor\",\"virginica\"]\n",
      "\tFrom worker 2:\t\n",
      "\tFrom worker 2:\tFold 1\n",
      "\tFrom worker 2:\tClasses:  Any[\"setosa\",\"versicolor\",\"virginica\"]\n",
      "\tFrom worker 3:\t 22   0   0\n",
      "\tFrom worker 3:\t  0  26   0\n",
      "\tFrom worker 3:\t  0   2  25\n",
      "\tFrom worker 3:\tAccuracy: 0.9733333333333334\n",
      "\tFrom worker 3:\tKappa:    0.9598715890850723\n",
      "\tFrom worker 3:\t\n",
      "\tFrom worker 3:\tMean Accuracy: 0.96\n",
      "\tFrom worker 5:\t\n",
      "\tFrom worker 5:\tFold 1\n",
      "\tFrom worker 5:\tClasses:  Any[\"setosa\",\"versicolor\",\"virginica\"]\n",
      "\tFrom worker 4:\tMatrix:   3×3 Array{Int64,2}:\n",
      "\tFrom worker 2:\tMatrix:   3×3 Array{Int64,2}:\n",
      "\tFrom worker 4:\t 25   0   0\n",
      "\tFrom worker 4:\t  0  20   3\n",
      "\tFrom worker 4:\t  0   1  26\n",
      "\tFrom worker 4:\tAccuracy: 0.9466666666666667\n",
      "\tFrom worker 4:\tKappa:    0.9196572040707016\n",
      "\tFrom worker 4:\t\n",
      "\tFrom worker 4:\tMean Accuracy: 0.96\n",
      "\tFrom worker 2:\t 23   0   0\n",
      "\tFrom worker 2:\t  3  24   1\n",
      "\tFrom worker 2:\t  0   2  22\n",
      "\tFrom worker 2:\tAccuracy: 0.92\n",
      "\tFrom worker 2:\tKappa:    0.8799039231385108\n",
      "\tFrom worker 5:\tMatrix:   3×3 Array{Int64,2}:\n",
      "\tFrom worker 2:\t\n",
      "\tFrom worker 2:\tFold 2\n",
      "\tFrom worker 2:\tClasses:  Any[\"setosa\",\"versicolor\",\"virginica\"]\n",
      "\tFrom worker 5:\t 26   0   0\n",
      "\tFrom worker 5:\t  0  22   2\n",
      "\tFrom worker 5:\t  0   1  24\n",
      "\tFrom worker 5:\tAccuracy: 0.96\n",
      "\tFrom worker 5:\tKappa:    0.9399519615692553\n",
      "\tFrom worker 2:\tMatrix:   3×3 Array{Int64,2}:\n",
      "\tFrom worker 5:\t\n",
      "\tFrom worker 5:\tFold 2\n",
      "\tFrom worker 5:\tClasses:  Any[\"setosa\",\"versicolor\",\"virginica\"]\n",
      "\tFrom worker 2:\t 27   0   0\n",
      "\tFrom worker 2:\t  0  18   4\n",
      "\tFrom worker 2:\t  0   2  24\n",
      "\tFrom worker 2:\tAccuracy: 0.92\n",
      "\tFrom worker 2:\tKappa:    0.8792918454935623\n",
      "\tFrom worker 2:\t\n",
      "\tFrom worker 2:\tMean Accuracy: 0.92\n",
      "\tFrom worker 3:\t\n",
      "\tFrom worker 3:\tFold 1\n",
      "\tFrom worker 3:\tClasses:  Any[\"setosa\",\"versicolor\",\"virginica\"]\n",
      "\tFrom worker 4:\t\n",
      "\tFrom worker 4:\tFold 1\n",
      "\tFrom worker 4:\tClasses:  Any[\"setosa\",\"versicolor\",\"virginica\"]\n",
      "\tFrom worker 5:\tMatrix:   3×3 Array{Int64,2}:\n",
      "\tFrom worker 5:\t 24   0   0\n",
      "\tFrom worker 5:\t  0  25   1\n",
      "\tFrom worker 5:\t  0   1  24\n",
      "\tFrom worker 5:\tAccuracy: 0.9733333333333334\n",
      "\tFrom worker 5:\tKappa:    0.9599786552828176\n",
      "\tFrom worker 5:\t\n",
      "\tFrom worker 5:\tMean Accuracy: 0.9666666666666667\n",
      "\tFrom worker 3:\tMatrix:   3×3 Array{Int64,2}:\n",
      "\tFrom worker 3:\t 26   0   0\n",
      "\tFrom worker 3:\t  1  25   0\n",
      "\tFrom worker 3:\t  0   2  21\n",
      "\tFrom worker 3:\tAccuracy: 0.96\n",
      "\tFrom worker 3:\tKappa:    0.9398073836276083\n",
      "\tFrom worker 4:\tMatrix:   3×3 Array{Int64,2}:\n",
      "\tFrom worker 4:\t 23   0   0\n",
      "\tFrom worker 4:\t  0  22   1\n",
      "\tFrom worker 2:\t\n",
      "\tFrom worker 4:\t  0   4  25\n",
      "\tFrom worker 4:\tAccuracy: 0.9333333333333333\n",
      "\tFrom worker 2:\tFold 1\n",
      "\tFrom worker 4:\tKappa:    0.8998397435897436\n",
      "\tFrom worker 3:\t\n",
      "\tFrom worker 2:\tClasses:  Any[\"setosa\",\"versicolor\",\"virginica\"]\n",
      "\tFrom worker 3:\tFold 2\n",
      "\tFrom worker 5:\t\n",
      "\tFrom worker 5:\tFold 1\n",
      "\tFrom worker 5:\tClasses:  Any[\"setosa\",\"versicolor\",\"virginica\"]\n",
      "\tFrom worker 3:\tClasses:  Any[\"setosa\",\"versicolor\",\"virginica\"]\n",
      "\tFrom worker 4:\t\n",
      "\tFrom worker 4:\tFold 2\n",
      "\tFrom worker 4:\tClasses:  Any[\"setosa\",\"versicolor\",\"virginica\"]\n",
      "\tFrom worker 2:\tMatrix:   3×3 Array{Int64,2}:\n",
      "\tFrom worker 2:\t 23   0   0\n",
      "\tFrom worker 2:\t  0  22   0\n",
      "\tFrom worker 2:\t  0   3  27\n",
      "\tFrom worker 2:\tAccuracy: 0.96\n",
      "\tFrom worker 2:\tKappa:    0.9397751605995717\n",
      "\tFrom worker 5:\tMatrix:   3×3 Array{Int64,2}:\n",
      "\tFrom worker 5:\t 22   0   0\n",
      "\tFrom worker 5:\t  1  27   1\n",
      "\tFrom worker 5:\t  0   5  19\n",
      "\tFrom worker 5:\tAccuracy: 0.9066666666666666\n",
      "\tFrom worker 5:\tKappa:    0.8585286984640259\n",
      "\tFrom worker 3:\tMatrix:   3×3 Array{Int64,2}:\n",
      "\tFrom worker 4:\tMatrix:   3×3 Array{Int64,2}:\n",
      "\tFrom worker 4:\t 27   0   0\n",
      "\tFrom worker 4:\t  0  26   1\n",
      "\tFrom worker 2:\t\n",
      "\tFrom worker 4:\t  0   4  17\n",
      "\tFrom worker 2:\tFold 2\n",
      "\tFrom worker 4:\tAccuracy: 0.9333333333333333\n",
      "\tFrom worker 2:\tClasses:  Any[\"setosa\",\"versicolor\",\"virginica\"]\n",
      "\tFrom worker 4:\tKappa:    0.8988673139158576\n",
      "\tFrom worker 4:\t\n",
      "\tFrom worker 4:\tMean Accuracy: 0.9333333333333333\n",
      "\tFrom worker 3:\t 24   0   0\n",
      "\tFrom worker 3:\t  0  23   1\n",
      "\tFrom worker 5:\t\n",
      "\tFrom worker 3:\t  0   2  25\n",
      "\tFrom worker 5:\tFold 2\n",
      "\tFrom worker 3:\tAccuracy: 0.96\n",
      "\tFrom worker 3:\tKappa:    0.9399519615692553\n",
      "\tFrom worker 3:\t\n",
      "\tFrom worker 3:\tMean Accuracy: 0.96\n",
      "\tFrom worker 5:\tClasses:  Any[\"setosa\",\"versicolor\",\"virginica\"]\n",
      "\tFrom worker 2:\tMatrix:   3×3 Array{Int64,2}:\n",
      "\tFrom worker 5:\tMatrix:   3×3 Array{Int64,2}:\n",
      "\tFrom worker 2:\t 27   0   0\n",
      "\tFrom worker 2:\t  0  24   4\n",
      "\tFrom worker 2:\t  0   1  19\n",
      "\tFrom worker 2:\tAccuracy: 0.9333333333333333\n",
      "\tFrom worker 2:\tKappa:    0.8996252676659529\n",
      "\tFrom worker 2:\t\n",
      "\tFrom worker 2:\tMean Accuracy: 0.9466666666666667\n",
      "\tFrom worker 5:\t 28   0   0\n",
      "\tFrom worker 5:\t  1  19   1\n",
      "\tFrom worker 5:\t  0   2  24\n",
      "\tFrom worker 5:\tAccuracy: 0.9466666666666667\n",
      "\tFrom worker 5:\tKappa:    0.9193981730252552\n",
      "\tFrom worker 5:\t\n",
      "\tFrom worker 5:\tMean Accuracy: 0.9266666666666666\n",
      "\tFrom worker 3:\t\n",
      "\tFrom worker 3:\tFold 1\n",
      "\tFrom worker 3:\tClasses:  Any[\"setosa\",\"versicolor\",\"virginica\"]\n",
      "\tFrom worker 3:\tMatrix:   3×3 Array{Int64,2}:\n",
      "\tFrom worker 3:\t 32   0   0\n",
      "\tFrom worker 3:\t  2  15   4\n",
      "\tFrom worker 3:\t  0   0  22\n",
      "\tFrom worker 3:\tAccuracy: 0.92\n",
      "\tFrom worker 3:\tKappa:    0.8767123287671235\n",
      "\tFrom worker 2:\t\n",
      "\tFrom worker 2:\tFold 1\n",
      "\tFrom worker 2:\tClasses:  Any[\"setosa\",\"versicolor\",\"virginica\"]\n",
      "\tFrom worker 2:\tMatrix:   3×3 Array{Int64,2}:\n",
      "\tFrom worker 2:\t 26   2   0\n",
      "\tFrom worker 2:\t  2  19   2\n",
      "\tFrom worker 2:\t  0   0  24\n",
      "\tFrom worker 2:\tAccuracy: 0.92\n",
      "\tFrom worker 2:\tKappa:    0.8794858061060525\n",
      "\tFrom worker 3:\t\n",
      "\tFrom worker 3:\tFold 2\n",
      "\tFrom worker 3:\tClasses:  Any[\"setosa\",\"versicolor\",\"virginica\"]\n",
      "\tFrom worker 2:\t\n",
      "\tFrom worker 2:\tFold 2\n",
      "\tFrom worker 2:\tClasses:  Any[\"setosa\",\"versicolor\",\"virginica\"]\n",
      "\tFrom worker 3:\tMatrix:   3×3 Array{Int64,2}:\n",
      "\tFrom worker 3:\t 18   0   0\n",
      "\tFrom worker 3:\t  0  24   5\n",
      "\tFrom worker 3:\t  0   3  25\n",
      "\tFrom worker 3:\tAccuracy: 0.8933333333333333\n",
      "\tFrom worker 3:\tKappa:    0.8368678629690048\n",
      "\tFrom worker 3:\t\n",
      "\tFrom worker 3:\tMean Accuracy: 0.9066666666666667\n",
      "\tFrom worker 2:\tMatrix:   3×3 Array{Int64,2}:\n",
      "\tFrom worker 2:\t 22   0   0\n",
      "\tFrom worker 2:\t  6  20   1\n",
      "\tFrom worker 2:\t  0   4  22\n",
      "\tFrom worker 2:\tAccuracy: 0.8533333333333334\n",
      "\tFrom worker 2:\tKappa:    0.78076003188945\n",
      "\tFrom worker 2:\t\n",
      "\tFrom worker 2:\tMean Accuracy: 0.8866666666666667\n",
      "\tFrom worker 3:\t\n",
      "\tFrom worker 3:\tFold 1\n",
      "\tFrom worker 3:\tClasses:  Any[\"setosa\",\"versicolor\",\"virginica\"]\n",
      "Overall Acc:\tFrom worker 3:\tMatrix:   3×3 Array{Int64,2}:\n",
      "93\tFrom worker 3:\t 26   0   0\n",
      ".\tFrom worker 3:\t  0  27   0\n",
      "31111111111112\tFrom worker 3:\t  0   3  19\n",
      " \tFrom worker 3:\tAccuracy: 0.96\n",
      "17\tFrom worker 3:\tKappa:    0.9395323837678043\n",
      ".\tFrom worker 3:\t\n",
      "461944\tFrom worker 3:\tFold 2\n",
      " seconds\tFrom worker 3:\tClasses:  Any[\"setosa\",\"versicolor\",\"virginica\"]\n",
      " (\tFrom worker 3:\tMatrix:   3×3 Array{Int64,2}:\n",
      "85\tFrom worker 3:\t 24   0   0\n",
      ".\tFrom worker 3:\t  0  20   3\n",
      "2\tFrom worker 3:\t  0   1  27\n",
      "0\tFrom worker 3:\tAccuracy: 0.9466666666666667\n",
      " k\tFrom worker 3:\tKappa:    0.9194847020933977\n",
      " allocations: \tFrom worker 3:\t\n",
      "3\tFrom worker 3:\tMean Accuracy: 0.9533333333333334\n",
      ".504 MB)\n"
     ]
    }
   ],
   "source": [
    "n=30\n",
    "@time begin \n",
    "    s=@parallel (+) for i=1:n\n",
    "        irisAcc()\n",
    "    end\n",
    "    print(\"Overall Acc:\",s/n*100.0)\n",
    "end"
   ]
  }
 ],
 "metadata": {
  "kernelspec": {
   "display_name": "Julia 0.5.0",
   "language": "julia",
   "name": "julia-0.5"
  },
  "language_info": {
   "file_extension": ".jl",
   "mimetype": "application/julia",
   "name": "julia",
   "version": "0.5.0"
  }
 },
 "nbformat": 4,
 "nbformat_minor": 2
}
