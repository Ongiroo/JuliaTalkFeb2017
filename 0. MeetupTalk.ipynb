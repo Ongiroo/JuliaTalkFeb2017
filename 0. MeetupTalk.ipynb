{
 "cells": [
  {
   "cell_type": "markdown",
   "metadata": {
    "slideshow": {
     "slide_type": "slide"
    }
   },
   "source": [
    "# Recent Developments in Julia 0.6 and Other Cool Stuffs\n",
    "## Julia Programming Language Meetup Talk: February 23, 2017\n",
    "#### Paulito Palmes \n",
    "(IBM Dublin Research Lab)\n"
   ]
  },
  {
   "cell_type": "markdown",
   "metadata": {
    "slideshow": {
     "slide_type": "slide"
    }
   },
   "source": [
    "# Outline\n",
    "## 1. [MetaPlotting](./1. MetaPlotting.ipynb)\n",
    "- ### 1.1 [MNIST](./mnist.ipynb)\n",
    "- ### 1.2 [RBM](./RBM.ipynb)\n",
    "\n",
    "## 2. [MetaModeling](./2. MetaModeling.ipynb)\n",
    "- ### 2.1 [RCall/PyCall](./RCall-PyCall.ipynb)\n",
    "- ### 2.2 [ScikitLearn](./sklearn.ipynb)\n",
    "\n",
    "## 3. [Broadcasting](./3. Broadcasting.ipynb)\n",
    "## 4. [JIT and Multiple Dispatch](./4. Multiple Dispatch.ipynb)\n",
    "## 5. [Parallel/Distributed Computing](./5. Parallel.ipynb)\n",
    "## 6. [Direct Feedback Alignment](./6. DFA.ipynb)\n",
    "## 7. [The Future](./7. Future.ipynb)"
   ]
  }
 ],
 "metadata": {
  "celltoolbar": "Slideshow",
  "kernelspec": {
   "display_name": "Julia 0.5.0",
   "language": "julia",
   "name": "julia-0.5"
  },
  "language_info": {
   "file_extension": ".jl",
   "mimetype": "application/julia",
   "name": "julia",
   "version": "0.5.0"
  }
 },
 "nbformat": 4,
 "nbformat_minor": 2
}
