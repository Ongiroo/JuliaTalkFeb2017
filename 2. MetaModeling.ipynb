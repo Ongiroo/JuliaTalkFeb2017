{
 "cells": [
  {
   "cell_type": "markdown",
   "metadata": {},
   "source": [
    "# Meta-Modeling: Combine.jl\n",
    "\n",
    "Idea adapted from Orchestra.jl work of Samuel Jenkins (https://github.com/svs14/Orchestra.jl)"
   ]
  },
  {
   "cell_type": "code",
   "execution_count": 41,
   "metadata": {
    "collapsed": false
   },
   "outputs": [],
   "source": [
    "using Combine.Util\n",
    "using Combine.Transformers\n",
    "import RDatasets"
   ]
  },
  {
   "cell_type": "code",
   "execution_count": 3,
   "metadata": {
    "collapsed": false
   },
   "outputs": [
    {
     "data": {
      "text/plain": [
       "([112,59,103,31,84,135,129,108,60,58  …  75,46,93,4,92,73,102,77,100,38],[53,44,144,69,98,74,48,97,34,120  …  121,3,101,149,12,36,35,125,71,28])"
      ]
     },
     "execution_count": 3,
     "metadata": {},
     "output_type": "execute_result"
    }
   ],
   "source": [
    "iris = RDatasets.dataset(\"datasets\", \"iris\")\n",
    "X = convert(Array, iris[[:SepalLength, :SepalWidth, :PetalLength, :PetalWidth]])\n",
    "y = convert(Array, iris[:Species]);\n",
    "\n",
    "# Split into training and test sets\n",
    "(train_ind, test_ind) = holdout(size(X, 1), 0.3)"
   ]
  },
  {
   "cell_type": "code",
   "execution_count": 4,
   "metadata": {
    "collapsed": false
   },
   "outputs": [
    {
     "data": {
      "text/plain": [
       "Combine.Transformers.DecisionTreeWrapper.PrunedTree(nothing,Dict{Symbol,Any}(Pair{Symbol,Any}(:impl_options,Dict(:purity_threshold=>1.0)),Pair{Symbol,Any}(:output,:class)))"
      ]
     },
     "execution_count": 4,
     "metadata": {},
     "output_type": "execute_result"
    }
   ],
   "source": [
    "prunedTreeLearner = PrunedTree()"
   ]
  },
  {
   "cell_type": "code",
   "execution_count": 5,
   "metadata": {
    "collapsed": false
   },
   "outputs": [
    {
     "data": {
      "text/plain": [
       "Combine.Transformers.CombineTransformers.Pipeline(nothing,Dict{Symbol,Any}(Pair{Symbol,Any}(:transformers,Combine.Types.Transformer[Combine.Transformers.CombineTransformers.OneHotEncoder(nothing,Dict(:nominal_columns=>nothing,:nominal_column_values_map=>nothing)),Combine.Transformers.CombineTransformers.Imputer(nothing,Dict(:strategy=>mean)),Combine.Transformers.DecisionTreeWrapper.PrunedTree(nothing,Dict{Symbol,Any}(Pair{Symbol,Any}(:impl_options,Dict(:purity_threshold=>1.0)),Pair{Symbol,Any}(:output,:class)))]),Pair{Symbol,Any}(:transformer_options,nothing)))"
      ]
     },
     "execution_count": 5,
     "metadata": {},
     "output_type": "execute_result"
    }
   ],
   "source": [
    "pipeline = Pipeline(Dict(\n",
    "        :transformers => [\n",
    "            OneHotEncoder(), # Encodes nominal features into numeric\n",
    "            Imputer(), # Imputes NA values\n",
    "            #StandardScaler(), # Standardizes features \n",
    "            prunedTreeLearner # Predicts labels on instances\n",
    "        ]\n",
    "    ))"
   ]
  },
  {
   "cell_type": "code",
   "execution_count": 6,
   "metadata": {
    "collapsed": false
   },
   "outputs": [],
   "source": [
    "# Train\n",
    "fit!(pipeline, X[train_ind, :], y[train_ind]);"
   ]
  },
  {
   "cell_type": "code",
   "execution_count": 7,
   "metadata": {
    "collapsed": true
   },
   "outputs": [],
   "source": [
    "# Predict\n",
    "predictions = transform!(pipeline, X[test_ind, :]);"
   ]
  },
  {
   "cell_type": "code",
   "execution_count": 8,
   "metadata": {
    "collapsed": false
   },
   "outputs": [
    {
     "data": {
      "text/plain": [
       "93.33333333333333"
      ]
     },
     "execution_count": 8,
     "metadata": {},
     "output_type": "execute_result"
    }
   ],
   "source": [
    "sum(predictions .== y[test_ind])/length(predictions)*100"
   ]
  },
  {
   "cell_type": "code",
   "execution_count": 9,
   "metadata": {
    "collapsed": false
   },
   "outputs": [
    {
     "name": "stdout",
     "output_type": "stream",
     "text": [
      "93.33333333333333\n"
     ]
    }
   ],
   "source": [
    "result = score(:accuracy, y[test_ind], predictions)\n",
    "println(result)"
   ]
  },
  {
   "cell_type": "code",
   "execution_count": 10,
   "metadata": {
    "collapsed": false
   },
   "outputs": [
    {
     "data": {
      "text/plain": [
       "processModel (generic function with 1 method)"
      ]
     },
     "execution_count": 10,
     "metadata": {},
     "output_type": "execute_result"
    }
   ],
   "source": [
    "function processModel(learner)\n",
    "    iris = RDatasets.dataset(\"datasets\", \"iris\")\n",
    "    X = convert(Array, iris[[:SepalLength, :SepalWidth, :PetalLength, :PetalWidth]])\n",
    "    y = convert(Array, iris[:Species]);\n",
    "    (train_ind, test_ind) = holdout(size(X, 1), 0.3)\n",
    "    pipeline = Pipeline(Dict(\n",
    "            :transformers => [\n",
    "                OneHotEncoder(), # Encodes nominal features into numeric\n",
    "                Imputer(), # Imputes NA values\n",
    "                #StandardScaler(), # Standardizes features \n",
    "                learner # Predicts labels on instances\n",
    "            ]\n",
    "        ))\n",
    "    # Train\n",
    "    fit!(pipeline, X[train_ind, :], y[train_ind]);\n",
    "    # Predict\n",
    "    predictions = transform!(pipeline, X[test_ind, :]);\n",
    "    result = score(:accuracy, y[test_ind], predictions)\n",
    "    return(result)\n",
    "end"
   ]
  },
  {
   "cell_type": "code",
   "execution_count": 12,
   "metadata": {
    "collapsed": false
   },
   "outputs": [
    {
     "data": {
      "text/plain": [
       "86.66666666666667"
      ]
     },
     "execution_count": 12,
     "metadata": {},
     "output_type": "execute_result"
    }
   ],
   "source": [
    "adaLearner = DecisionStumpAdaboost(Dict(\n",
    "  # Output to train against\n",
    "  # (:class).\n",
    "  :output => :class,\n",
    "  # Options specific to this implementation.\n",
    "  :impl_options => Dict(\n",
    "    # Number of boosting iterations.\n",
    "    :num_iterations => 7\n",
    "  )\n",
    "))\n",
    "processModel(adaLearner)"
   ]
  },
  {
   "cell_type": "code",
   "execution_count": 13,
   "metadata": {
    "collapsed": false
   },
   "outputs": [
    {
     "data": {
      "text/plain": [
       "97.77777777777777"
      ]
     },
     "execution_count": 13,
     "metadata": {},
     "output_type": "execute_result"
    }
   ],
   "source": [
    "rfLearner = RandomForest(Dict(\n",
    "  :output => :class,\n",
    "  :impl_options => Dict(\n",
    "    :num_subfeatures => nothing,\n",
    "    :num_trees => 10,\n",
    "    :partial_sampling => 0.7\n",
    "  )\n",
    "))\n",
    "processModel(rfLearner)"
   ]
  },
  {
   "cell_type": "code",
   "execution_count": 15,
   "metadata": {
    "collapsed": false
   },
   "outputs": [
    {
     "data": {
      "text/plain": [
       "97.77777777777777"
      ]
     },
     "execution_count": 15,
     "metadata": {},
     "output_type": "execute_result"
    }
   ],
   "source": [
    "using ScikitLearn\n",
    "@sk_import neighbors: KNeighborsClassifier\n",
    "@sk_import svm: SVC\n",
    "\n",
    "skLearner = SKLLearner(Dict(\n",
    "  :output => :class,\n",
    "  #:learner => \"KNeighborsClassifier\",\n",
    "  :learner => \"SVC\",\n",
    "  :impl_options => Dict()\n",
    "))\n",
    "processModel(skLearner)"
   ]
  },
  {
   "cell_type": "code",
   "execution_count": 16,
   "metadata": {
    "collapsed": false
   },
   "outputs": [
    {
     "data": {
      "text/plain": [
       "95.55555555555556"
      ]
     },
     "execution_count": 16,
     "metadata": {},
     "output_type": "execute_result"
    }
   ],
   "source": [
    "voteLearner = VoteEnsemble(Dict(\n",
    "  :output => :class,\n",
    "  # Learners in voting committee.\n",
    "  :learners => [RandomForest(),PrunedTree(), DecisionStumpAdaboost()]\n",
    "))\n",
    "processModel(voteLearner)"
   ]
  },
  {
   "cell_type": "code",
   "execution_count": 18,
   "metadata": {
    "collapsed": false
   },
   "outputs": [
    {
     "data": {
      "text/plain": [
       "97.77777777777777"
      ]
     },
     "execution_count": 18,
     "metadata": {},
     "output_type": "execute_result"
    }
   ],
   "source": [
    "bestLearner = BestLearner(Dict(\n",
    "  :output => :class,\n",
    "  :partition_generator => (X, y) -> kfold(size(X, 1), 5),\n",
    "  :selection_function => (learner_partition_scores) -> findmax(mean(learner_partition_scores, 2))[2],      \n",
    "  :score_type => Real,\n",
    "  :learners => [PrunedTree(), DecisionStumpAdaboost(), RandomForest()],\n",
    "  :learner_options_grid => nothing\n",
    "))\n",
    "processModel(bestLearner)"
   ]
  },
  {
   "cell_type": "code",
   "execution_count": 39,
   "metadata": {
    "collapsed": false
   },
   "outputs": [
    {
     "data": {
      "text/plain": [
       "95.55555555555556"
      ]
     },
     "execution_count": 39,
     "metadata": {},
     "output_type": "execute_result"
    }
   ],
   "source": [
    "stackLearner = StackEnsemble(Dict(\n",
    "  :output => :class,\n",
    "  :learners => [PrunedTree(), DecisionStumpAdaboost(), RandomForest(),skLearner,voteLearner,bestLearner],\n",
    "  :stacker => RandomForest(),\n",
    "  # Proportion of training set left to train stacker itself.\n",
    "  :stacker_training_proportion => 0.3,\n",
    "  :keep_original_features => false\n",
    "))\n",
    "processModel(stackLearner)"
   ]
  },
  {
   "cell_type": "code",
   "execution_count": 40,
   "metadata": {
    "collapsed": false
   },
   "outputs": [
    {
     "name": "stdout",
     "output_type": "stream",
     "text": [
      "acc = 95.0 +/- 3.0\n"
     ]
    }
   ],
   "source": [
    "results=@parallel (vcat) for i=1:30\n",
    "   processModel(stackLearner)\n",
    "end\n",
    "println(\"acc = \",round(mean(results)),\" +/- \",round(std(results)))"
   ]
  },
  {
   "cell_type": "code",
   "execution_count": 27,
   "metadata": {
    "collapsed": false
   },
   "outputs": [
    {
     "data": {
      "text/plain": [
       "30-element Array{Float64,1}:\n",
       " 100.0   \n",
       " 100.0   \n",
       "  95.5556\n",
       " 100.0   \n",
       "  91.1111\n",
       " 100.0   \n",
       "  95.5556\n",
       "  97.7778\n",
       "  97.7778\n",
       "  95.5556\n",
       "  97.7778\n",
       "  97.7778\n",
       "  97.7778\n",
       "   ⋮     \n",
       "  97.7778\n",
       "  91.1111\n",
       "  95.5556\n",
       "  97.7778\n",
       "  97.7778\n",
       "  95.5556\n",
       "  93.3333\n",
       " 100.0   \n",
       "  97.7778\n",
       "  91.1111\n",
       "  95.5556\n",
       "  97.7778"
      ]
     },
     "execution_count": 27,
     "metadata": {},
     "output_type": "execute_result"
    }
   ],
   "source": [
    "results"
   ]
  },
  {
   "cell_type": "code",
   "execution_count": 17,
   "metadata": {
    "collapsed": true
   },
   "outputs": [],
   "source": [
    "#svmcrt = CRTLearner(Dict(\n",
    "  # Output to train against\n",
    "  # (:class).\n",
    "  #:output => :class,\n",
    "  #:learner => \"rf\",\n",
    "  #:learner => \"svmLinear2\",\n",
    "  #:learner => \"rpart\",\n",
    "  #:learner => \"lda\",\n",
    "  #:impl_options => Dict()\n",
    "#))"
   ]
  },
  {
   "cell_type": "code",
   "execution_count": null,
   "metadata": {
    "collapsed": true
   },
   "outputs": [],
   "source": []
  }
 ],
 "metadata": {
  "kernelspec": {
   "display_name": "Julia 0.5.0",
   "language": "julia",
   "name": "julia-0.5"
  },
  "language_info": {
   "file_extension": ".jl",
   "mimetype": "application/julia",
   "name": "julia",
   "version": "0.5.0"
  }
 },
 "nbformat": 4,
 "nbformat_minor": 2
}
